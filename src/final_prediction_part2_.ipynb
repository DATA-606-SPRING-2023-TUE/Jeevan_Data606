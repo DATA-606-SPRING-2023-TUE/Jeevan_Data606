{
  "nbformat": 4,
  "nbformat_minor": 0,
  "metadata": {
    "colab": {
      "provenance": []
    },
    "kernelspec": {
      "name": "python3",
      "display_name": "Python 3"
    },
    "language_info": {
      "name": "python"
    }
  },
  "cells": [
    {
      "cell_type": "code",
      "execution_count": 2,
      "metadata": {
        "id": "EB-TREVWAxlv"
      },
      "outputs": [],
      "source": [
        "import pandas as pd\n",
        "import numpy as np\n",
        "import numpy as np \n",
        "import pandas as pd \n",
        "import matplotlib\n",
        "import matplotlib.pyplot as plt\n",
        "import seaborn as sns\n",
        "\n",
        "\n",
        "from plotly.offline import download_plotlyjs, init_notebook_mode, plot, iplot\n",
        "import plotly as py\n",
        "import plotly.graph_objs as go\n",
        "from plotly.subplots import make_subplots\n",
        "\n",
        "import collections\n",
        "import itertools\n",
        "\n",
        "import scipy.stats as stats\n",
        "from scipy.stats import norm\n",
        "from scipy.special import boxcox1p\n",
        "\n",
        "import statsmodels\n",
        "import statsmodels.api as sm\n",
        "\n",
        "\n",
        "from sklearn.preprocessing import scale, StandardScaler, RobustScaler, OneHotEncoder\n",
        "from sklearn.pipeline import Pipeline\n",
        "from sklearn.compose import ColumnTransformer\n",
        "from sklearn.model_selection import train_test_split, cross_val_score, GridSearchCV, KFold, StratifiedKFold, RandomizedSearchCV\n",
        "from sklearn.linear_model import Ridge, RidgeCV, Lasso, LassoCV, LinearRegression, ElasticNet,  HuberRegressor\n",
        "from sklearn.metrics import mean_squared_error, r2_score\n",
        "from xgboost import XGBRegressor\n",
        "from sklearn.gaussian_process import GaussianProcessRegressor\n",
        "from sklearn.ensemble import RandomForestRegressor, GradientBoostingRegressor\n",
        "from sklearn.svm import SVR\n",
        "from sklearn.kernel_ridge import KernelRidge\n",
        "from sklearn.utils import resample\n",
        "from xgboost import XGBRegressor\n",
        "\n",
        "\n",
        "\n",
        "import warnings\n",
        "warnings.filterwarnings(\"ignore\", category=FutureWarning)"
      ]
    },
    {
      "cell_type": "code",
      "source": [
        "final_df = pd.read_excel('/content/model.xlsx')"
      ],
      "metadata": {
        "id": "qoc3pryCBa66"
      },
      "execution_count": 4,
      "outputs": []
    },
    {
      "cell_type": "code",
      "source": [
        "categorical_features = final_df.select_dtypes(include=['object'])\n",
        "print('Categorical features: {}'.format(categorical_features.shape))"
      ],
      "metadata": {
        "colab": {
          "base_uri": "https://localhost:8080/"
        },
        "id": "9vivk5cmBg8u",
        "outputId": "96cbd4dc-949f-4aaa-e6a4-247556ee3bbe"
      },
      "execution_count": 5,
      "outputs": [
        {
          "output_type": "stream",
          "name": "stdout",
          "text": [
            "Categorical features: (48970, 4)\n"
          ]
        }
      ]
    },
    {
      "cell_type": "code",
      "source": [
        "categorical_features_one_hot = pd.get_dummies(categorical_features)\n",
        "categorical_features_one_hot.head()"
      ],
      "metadata": {
        "colab": {
          "base_uri": "https://localhost:8080/",
          "height": 317
        },
        "id": "7NHlIdNRBn01",
        "outputId": "8261745b-1f9e-4167-b22e-22732cb52503"
      },
      "execution_count": 6,
      "outputs": [
        {
          "output_type": "execute_result",
          "data": {
            "text/plain": [
              "   neighbourhood_group_Bronx  neighbourhood_group_Brooklyn  \\\n",
              "0                          0                             1   \n",
              "1                          0                             0   \n",
              "2                          0                             1   \n",
              "3                          0                             0   \n",
              "4                          0                             0   \n",
              "\n",
              "   neighbourhood_group_Manhattan  neighbourhood_group_No Neighbourhood group  \\\n",
              "0                              0                                           0   \n",
              "1                              1                                           0   \n",
              "2                              0                                           0   \n",
              "3                              1                                           0   \n",
              "4                              1                                           0   \n",
              "\n",
              "   neighbourhood_group_Queens  neighbourhood_group_Staten Island  \\\n",
              "0                           0                                  0   \n",
              "1                           0                                  0   \n",
              "2                           0                                  0   \n",
              "3                           0                                  0   \n",
              "4                           0                                  0   \n",
              "\n",
              "   neighbourhood_Allerton  neighbourhood_Arden Heights  \\\n",
              "0                       0                            0   \n",
              "1                       0                            0   \n",
              "2                       0                            0   \n",
              "3                       0                            0   \n",
              "4                       0                            0   \n",
              "\n",
              "   neighbourhood_Arrochar  neighbourhood_Arverne  ...  \\\n",
              "0                       0                      0  ...   \n",
              "1                       0                      0  ...   \n",
              "2                       0                      0  ...   \n",
              "3                       0                      0  ...   \n",
              "4                       0                      0  ...   \n",
              "\n",
              "   neighbourhood_Woodridge, Fort Lincoln, Gateway  neighbourhood_Woodrow  \\\n",
              "0                                               0                      0   \n",
              "1                                               0                      0   \n",
              "2                                               0                      0   \n",
              "3                                               0                      0   \n",
              "4                                               0                      0   \n",
              "\n",
              "   neighbourhood_Woodside  room_type_Entire home/apt  room_type_Hotel room  \\\n",
              "0                       0                          1                     0   \n",
              "1                       0                          0                     0   \n",
              "2                       0                          0                     0   \n",
              "3                       0                          0                     0   \n",
              "4                       0                          1                     0   \n",
              "\n",
              "   room_type_Private room  room_type_Shared room  location_New Jersey  \\\n",
              "0                       0                      0                    0   \n",
              "1                       1                      0                    0   \n",
              "2                       1                      0                    0   \n",
              "3                       1                      0                    0   \n",
              "4                       0                      0                    0   \n",
              "\n",
              "   location_New york  location_Washington D.C  \n",
              "0                  1                        0  \n",
              "1                  1                        0  \n",
              "2                  1                        0  \n",
              "3                  1                        0  \n",
              "4                  1                        0  \n",
              "\n",
              "[5 rows x 280 columns]"
            ],
            "text/html": [
              "\n",
              "  <div id=\"df-bf5dba1d-f5b6-4b28-bdf8-6343989ed79a\">\n",
              "    <div class=\"colab-df-container\">\n",
              "      <div>\n",
              "<style scoped>\n",
              "    .dataframe tbody tr th:only-of-type {\n",
              "        vertical-align: middle;\n",
              "    }\n",
              "\n",
              "    .dataframe tbody tr th {\n",
              "        vertical-align: top;\n",
              "    }\n",
              "\n",
              "    .dataframe thead th {\n",
              "        text-align: right;\n",
              "    }\n",
              "</style>\n",
              "<table border=\"1\" class=\"dataframe\">\n",
              "  <thead>\n",
              "    <tr style=\"text-align: right;\">\n",
              "      <th></th>\n",
              "      <th>neighbourhood_group_Bronx</th>\n",
              "      <th>neighbourhood_group_Brooklyn</th>\n",
              "      <th>neighbourhood_group_Manhattan</th>\n",
              "      <th>neighbourhood_group_No Neighbourhood group</th>\n",
              "      <th>neighbourhood_group_Queens</th>\n",
              "      <th>neighbourhood_group_Staten Island</th>\n",
              "      <th>neighbourhood_Allerton</th>\n",
              "      <th>neighbourhood_Arden Heights</th>\n",
              "      <th>neighbourhood_Arrochar</th>\n",
              "      <th>neighbourhood_Arverne</th>\n",
              "      <th>...</th>\n",
              "      <th>neighbourhood_Woodridge, Fort Lincoln, Gateway</th>\n",
              "      <th>neighbourhood_Woodrow</th>\n",
              "      <th>neighbourhood_Woodside</th>\n",
              "      <th>room_type_Entire home/apt</th>\n",
              "      <th>room_type_Hotel room</th>\n",
              "      <th>room_type_Private room</th>\n",
              "      <th>room_type_Shared room</th>\n",
              "      <th>location_New Jersey</th>\n",
              "      <th>location_New york</th>\n",
              "      <th>location_Washington D.C</th>\n",
              "    </tr>\n",
              "  </thead>\n",
              "  <tbody>\n",
              "    <tr>\n",
              "      <th>0</th>\n",
              "      <td>0</td>\n",
              "      <td>1</td>\n",
              "      <td>0</td>\n",
              "      <td>0</td>\n",
              "      <td>0</td>\n",
              "      <td>0</td>\n",
              "      <td>0</td>\n",
              "      <td>0</td>\n",
              "      <td>0</td>\n",
              "      <td>0</td>\n",
              "      <td>...</td>\n",
              "      <td>0</td>\n",
              "      <td>0</td>\n",
              "      <td>0</td>\n",
              "      <td>1</td>\n",
              "      <td>0</td>\n",
              "      <td>0</td>\n",
              "      <td>0</td>\n",
              "      <td>0</td>\n",
              "      <td>1</td>\n",
              "      <td>0</td>\n",
              "    </tr>\n",
              "    <tr>\n",
              "      <th>1</th>\n",
              "      <td>0</td>\n",
              "      <td>0</td>\n",
              "      <td>1</td>\n",
              "      <td>0</td>\n",
              "      <td>0</td>\n",
              "      <td>0</td>\n",
              "      <td>0</td>\n",
              "      <td>0</td>\n",
              "      <td>0</td>\n",
              "      <td>0</td>\n",
              "      <td>...</td>\n",
              "      <td>0</td>\n",
              "      <td>0</td>\n",
              "      <td>0</td>\n",
              "      <td>0</td>\n",
              "      <td>0</td>\n",
              "      <td>1</td>\n",
              "      <td>0</td>\n",
              "      <td>0</td>\n",
              "      <td>1</td>\n",
              "      <td>0</td>\n",
              "    </tr>\n",
              "    <tr>\n",
              "      <th>2</th>\n",
              "      <td>0</td>\n",
              "      <td>1</td>\n",
              "      <td>0</td>\n",
              "      <td>0</td>\n",
              "      <td>0</td>\n",
              "      <td>0</td>\n",
              "      <td>0</td>\n",
              "      <td>0</td>\n",
              "      <td>0</td>\n",
              "      <td>0</td>\n",
              "      <td>...</td>\n",
              "      <td>0</td>\n",
              "      <td>0</td>\n",
              "      <td>0</td>\n",
              "      <td>0</td>\n",
              "      <td>0</td>\n",
              "      <td>1</td>\n",
              "      <td>0</td>\n",
              "      <td>0</td>\n",
              "      <td>1</td>\n",
              "      <td>0</td>\n",
              "    </tr>\n",
              "    <tr>\n",
              "      <th>3</th>\n",
              "      <td>0</td>\n",
              "      <td>0</td>\n",
              "      <td>1</td>\n",
              "      <td>0</td>\n",
              "      <td>0</td>\n",
              "      <td>0</td>\n",
              "      <td>0</td>\n",
              "      <td>0</td>\n",
              "      <td>0</td>\n",
              "      <td>0</td>\n",
              "      <td>...</td>\n",
              "      <td>0</td>\n",
              "      <td>0</td>\n",
              "      <td>0</td>\n",
              "      <td>0</td>\n",
              "      <td>0</td>\n",
              "      <td>1</td>\n",
              "      <td>0</td>\n",
              "      <td>0</td>\n",
              "      <td>1</td>\n",
              "      <td>0</td>\n",
              "    </tr>\n",
              "    <tr>\n",
              "      <th>4</th>\n",
              "      <td>0</td>\n",
              "      <td>0</td>\n",
              "      <td>1</td>\n",
              "      <td>0</td>\n",
              "      <td>0</td>\n",
              "      <td>0</td>\n",
              "      <td>0</td>\n",
              "      <td>0</td>\n",
              "      <td>0</td>\n",
              "      <td>0</td>\n",
              "      <td>...</td>\n",
              "      <td>0</td>\n",
              "      <td>0</td>\n",
              "      <td>0</td>\n",
              "      <td>1</td>\n",
              "      <td>0</td>\n",
              "      <td>0</td>\n",
              "      <td>0</td>\n",
              "      <td>0</td>\n",
              "      <td>1</td>\n",
              "      <td>0</td>\n",
              "    </tr>\n",
              "  </tbody>\n",
              "</table>\n",
              "<p>5 rows × 280 columns</p>\n",
              "</div>\n",
              "      <button class=\"colab-df-convert\" onclick=\"convertToInteractive('df-bf5dba1d-f5b6-4b28-bdf8-6343989ed79a')\"\n",
              "              title=\"Convert this dataframe to an interactive table.\"\n",
              "              style=\"display:none;\">\n",
              "        \n",
              "  <svg xmlns=\"http://www.w3.org/2000/svg\" height=\"24px\"viewBox=\"0 0 24 24\"\n",
              "       width=\"24px\">\n",
              "    <path d=\"M0 0h24v24H0V0z\" fill=\"none\"/>\n",
              "    <path d=\"M18.56 5.44l.94 2.06.94-2.06 2.06-.94-2.06-.94-.94-2.06-.94 2.06-2.06.94zm-11 1L8.5 8.5l.94-2.06 2.06-.94-2.06-.94L8.5 2.5l-.94 2.06-2.06.94zm10 10l.94 2.06.94-2.06 2.06-.94-2.06-.94-.94-2.06-.94 2.06-2.06.94z\"/><path d=\"M17.41 7.96l-1.37-1.37c-.4-.4-.92-.59-1.43-.59-.52 0-1.04.2-1.43.59L10.3 9.45l-7.72 7.72c-.78.78-.78 2.05 0 2.83L4 21.41c.39.39.9.59 1.41.59.51 0 1.02-.2 1.41-.59l7.78-7.78 2.81-2.81c.8-.78.8-2.07 0-2.86zM5.41 20L4 18.59l7.72-7.72 1.47 1.35L5.41 20z\"/>\n",
              "  </svg>\n",
              "      </button>\n",
              "      \n",
              "  <style>\n",
              "    .colab-df-container {\n",
              "      display:flex;\n",
              "      flex-wrap:wrap;\n",
              "      gap: 12px;\n",
              "    }\n",
              "\n",
              "    .colab-df-convert {\n",
              "      background-color: #E8F0FE;\n",
              "      border: none;\n",
              "      border-radius: 50%;\n",
              "      cursor: pointer;\n",
              "      display: none;\n",
              "      fill: #1967D2;\n",
              "      height: 32px;\n",
              "      padding: 0 0 0 0;\n",
              "      width: 32px;\n",
              "    }\n",
              "\n",
              "    .colab-df-convert:hover {\n",
              "      background-color: #E2EBFA;\n",
              "      box-shadow: 0px 1px 2px rgba(60, 64, 67, 0.3), 0px 1px 3px 1px rgba(60, 64, 67, 0.15);\n",
              "      fill: #174EA6;\n",
              "    }\n",
              "\n",
              "    [theme=dark] .colab-df-convert {\n",
              "      background-color: #3B4455;\n",
              "      fill: #D2E3FC;\n",
              "    }\n",
              "\n",
              "    [theme=dark] .colab-df-convert:hover {\n",
              "      background-color: #434B5C;\n",
              "      box-shadow: 0px 1px 3px 1px rgba(0, 0, 0, 0.15);\n",
              "      filter: drop-shadow(0px 1px 2px rgba(0, 0, 0, 0.3));\n",
              "      fill: #FFFFFF;\n",
              "    }\n",
              "  </style>\n",
              "\n",
              "      <script>\n",
              "        const buttonEl =\n",
              "          document.querySelector('#df-bf5dba1d-f5b6-4b28-bdf8-6343989ed79a button.colab-df-convert');\n",
              "        buttonEl.style.display =\n",
              "          google.colab.kernel.accessAllowed ? 'block' : 'none';\n",
              "\n",
              "        async function convertToInteractive(key) {\n",
              "          const element = document.querySelector('#df-bf5dba1d-f5b6-4b28-bdf8-6343989ed79a');\n",
              "          const dataTable =\n",
              "            await google.colab.kernel.invokeFunction('convertToInteractive',\n",
              "                                                     [key], {});\n",
              "          if (!dataTable) return;\n",
              "\n",
              "          const docLinkHtml = 'Like what you see? Visit the ' +\n",
              "            '<a target=\"_blank\" href=https://colab.research.google.com/notebooks/data_table.ipynb>data table notebook</a>'\n",
              "            + ' to learn more about interactive tables.';\n",
              "          element.innerHTML = '';\n",
              "          dataTable['output_type'] = 'display_data';\n",
              "          await google.colab.output.renderOutput(dataTable, element);\n",
              "          const docLink = document.createElement('div');\n",
              "          docLink.innerHTML = docLinkHtml;\n",
              "          element.appendChild(docLink);\n",
              "        }\n",
              "      </script>\n",
              "    </div>\n",
              "  </div>\n",
              "  "
            ]
          },
          "metadata": {},
          "execution_count": 6
        }
      ]
    },
    {
      "cell_type": "code",
      "source": [
        "final_df['reviews_per_month'] = final_df['reviews_per_month'].fillna(0)"
      ],
      "metadata": {
        "id": "2JfOOODlBoZa"
      },
      "execution_count": 7,
      "outputs": []
    },
    {
      "cell_type": "code",
      "source": [
        "numerical_features =  final_df.select_dtypes(exclude=['object'])\n",
        "y = numerical_features.price\n",
        "numerical_features = numerical_features.drop(['price'], axis=1)\n",
        "print('Numerical features: {}'.format(numerical_features.shape))"
      ],
      "metadata": {
        "colab": {
          "base_uri": "https://localhost:8080/"
        },
        "id": "7hkynmTDBsbj",
        "outputId": "1734f76f-288f-4c6e-f877-ba53f8b67b84"
      },
      "execution_count": 8,
      "outputs": [
        {
          "output_type": "stream",
          "name": "stdout",
          "text": [
            "Numerical features: (48970, 12)\n"
          ]
        }
      ]
    },
    {
      "cell_type": "code",
      "source": [
        "numerical_features.isna().sum()"
      ],
      "metadata": {
        "colab": {
          "base_uri": "https://localhost:8080/"
        },
        "id": "ZYOZfTFeBvDS",
        "outputId": "6cd5e9ba-a0bd-44f8-f0dc-025e4e09f1d7"
      },
      "execution_count": 9,
      "outputs": [
        {
          "output_type": "execute_result",
          "data": {
            "text/plain": [
              "latitude                          0\n",
              "longitude                         0\n",
              "minimum_nights                    0\n",
              "number_of_reviews                 0\n",
              "last_review                       0\n",
              "reviews_per_month                 0\n",
              "calculated_host_listings_count    0\n",
              "availability_365                  0\n",
              "number_of_reviews_ltm             0\n",
              "all_year_avail                    0\n",
              "low_avail                         0\n",
              "no_reviews                        0\n",
              "dtype: int64"
            ]
          },
          "metadata": {},
          "execution_count": 9
        }
      ]
    },
    {
      "cell_type": "code",
      "source": [
        "X = np.concatenate((numerical_features, categorical_features_one_hot), axis=1)\n",
        "X_df = pd.concat([numerical_features, categorical_features_one_hot], axis=1)"
      ],
      "metadata": {
        "id": "LsZjuI_jBxQ-"
      },
      "execution_count": 10,
      "outputs": []
    },
    {
      "cell_type": "code",
      "source": [
        "Processed_data = pd.concat([X_df, y], axis = 1)"
      ],
      "metadata": {
        "id": "CLduWA27CG6b"
      },
      "execution_count": 11,
      "outputs": []
    },
    {
      "cell_type": "code",
      "source": [
        "y.head(1)"
      ],
      "metadata": {
        "colab": {
          "base_uri": "https://localhost:8080/"
        },
        "id": "qn03l2biHkJ8",
        "outputId": "12170429-62df-4d73-eda6-160b37bf670f"
      },
      "execution_count": 12,
      "outputs": [
        {
          "output_type": "execute_result",
          "data": {
            "text/plain": [
              "0    5.620401\n",
              "Name: price, dtype: float64"
            ]
          },
          "metadata": {},
          "execution_count": 12
        }
      ]
    },
    {
      "cell_type": "code",
      "source": [
        "X_train, X_test, y_train, y_test = train_test_split(X, y, test_size=0.3, random_state=42)"
      ],
      "metadata": {
        "id": "gCJQ5-urCQmD"
      },
      "execution_count": 13,
      "outputs": []
    },
    {
      "cell_type": "code",
      "source": [
        "print('Dimensions of the training feature matrix: {}'.format(X_train.shape))\n",
        "print('Dimensions of the training target vector: {}'.format(y_train.shape))\n",
        "print('Dimensions of the test feature matrix: {}'.format(X_test.shape))\n",
        "print('Dimensions of the test target vector: {}'.format(y_test.shape))"
      ],
      "metadata": {
        "colab": {
          "base_uri": "https://localhost:8080/"
        },
        "id": "Er3qNxVeCZrJ",
        "outputId": "96ebe561-b30b-43fd-b752-4e5aa9a3bdd1"
      },
      "execution_count": 14,
      "outputs": [
        {
          "output_type": "stream",
          "name": "stdout",
          "text": [
            "Dimensions of the training feature matrix: (34279, 292)\n",
            "Dimensions of the training target vector: (34279,)\n",
            "Dimensions of the test feature matrix: (14691, 292)\n",
            "Dimensions of the test target vector: (14691,)\n"
          ]
        }
      ]
    },
    {
      "cell_type": "code",
      "source": [
        "scaler = RobustScaler()\n",
        "X_train = scaler.fit_transform(X_train)\n",
        "X_test = scaler.fit_transform(X_test)"
      ],
      "metadata": {
        "id": "dpKn0neJCeJZ"
      },
      "execution_count": 15,
      "outputs": []
    },
    {
      "cell_type": "code",
      "source": [
        "from sklearn import datasets\n",
        "from sklearn.tree import DecisionTreeRegressor\n",
        "from sklearn.model_selection import train_test_split\n",
        "from sklearn.metrics import mean_squared_error\n",
        "regressor = DecisionTreeRegressor()\n",
        "\n",
        "# train the regressor on the training set\n",
        "regressor.fit(X_train, y_train)\n",
        "\n",
        "# make predictions on the testing set\n",
        "y_pred = regressor.predict(X_test)\n",
        "\n",
        "# calculate the mean squared error of the regressor\n",
        "mse = mean_squared_error(y_test, y_pred)\n",
        "print(\"Mean Squared Error:\", mse)\n",
        "r2 = r2_score(y_test, y_pred)\n",
        "\n",
        "print(\"R2 Score:\", r2)"
      ],
      "metadata": {
        "colab": {
          "base_uri": "https://localhost:8080/"
        },
        "id": "E-6NA0nTCgiO",
        "outputId": "a29aa65c-fc38-48ef-f57d-8831d7703601"
      },
      "execution_count": 16,
      "outputs": [
        {
          "output_type": "stream",
          "name": "stdout",
          "text": [
            "Mean Squared Error: 0.4964826066055863\n",
            "R2 Score: 0.20455694440763628\n"
          ]
        }
      ]
    },
    {
      "cell_type": "code",
      "source": [
        "from sklearn import datasets\n",
        "from sklearn.ensemble import RandomForestRegressor\n",
        "from sklearn.model_selection import train_test_split\n",
        "from sklearn.metrics import mean_squared_error, r2_score\n",
        "\n",
        "regressor = RandomForestRegressor(n_estimators=100, random_state=42)\n",
        "\n",
        "# train the regressor on the training set\n",
        "regressor.fit(X_train, y_train)\n",
        "\n",
        "# make predictions on the testing set\n",
        "y_pred = regressor.predict(X_test)\n",
        "\n",
        "# calculate the mean squared error and R2 score of the regressor\n",
        "mse = mean_squared_error(y_test, y_pred)\n",
        "r2 = r2_score(y_test, y_pred)\n",
        "print(\"Mean Squared Error:\", mse)\n",
        "print(\"R2 Score:\", r2)"
      ],
      "metadata": {
        "colab": {
          "base_uri": "https://localhost:8080/"
        },
        "id": "vNO1-8-YCsB4",
        "outputId": "a9fc0e3a-ea37-4f7b-cc9b-af7006990a19"
      },
      "execution_count": 17,
      "outputs": [
        {
          "output_type": "stream",
          "name": "stdout",
          "text": [
            "Mean Squared Error: 0.2450401177580865\n",
            "R2 Score: 0.6074072738522964\n"
          ]
        }
      ]
    },
    {
      "cell_type": "code",
      "source": [
        "import pickle\n",
        "with open('regressor.pickle', 'wb') as f:\n",
        "    pickle.dump(regressor, f)"
      ],
      "metadata": {
        "id": "N3bi4wdXIICs"
      },
      "execution_count": 18,
      "outputs": []
    },
    {
      "cell_type": "code",
      "source": [
        "X_df.head(1)['low_avail']"
      ],
      "metadata": {
        "colab": {
          "base_uri": "https://localhost:8080/"
        },
        "id": "AfySco1MQgxc",
        "outputId": "25609c02-ed5e-4430-eb79-2640c1af30e4"
      },
      "execution_count": 135,
      "outputs": [
        {
          "output_type": "execute_result",
          "data": {
            "text/plain": [
              "0    False\n",
              "Name: low_avail, dtype: bool"
            ]
          },
          "metadata": {},
          "execution_count": 135
        }
      ]
    },
    {
      "cell_type": "code",
      "source": [
        "\n",
        "c = list(X_df.head(1).columns)"
      ],
      "metadata": {
        "id": "XUOK1uK5a63K"
      },
      "execution_count": 19,
      "outputs": []
    },
    {
      "cell_type": "code",
      "source": [
        "c[12:18]"
      ],
      "metadata": {
        "colab": {
          "base_uri": "https://localhost:8080/"
        },
        "id": "J7kAAcFWILOP",
        "outputId": "e878fba8-e203-4fce-d1b3-714ac62f4943"
      },
      "execution_count": 43,
      "outputs": [
        {
          "output_type": "execute_result",
          "data": {
            "text/plain": [
              "['neighbourhood_group_Bronx',\n",
              " 'neighbourhood_group_Brooklyn',\n",
              " 'neighbourhood_group_Manhattan',\n",
              " 'neighbourhood_group_No Neighbourhood group',\n",
              " 'neighbourhood_group_Queens',\n",
              " 'neighbourhood_group_Staten Island']"
            ]
          },
          "metadata": {},
          "execution_count": 43
        }
      ]
    },
    {
      "cell_type": "code",
      "source": [
        "c[18:-7]"
      ],
      "metadata": {
        "colab": {
          "base_uri": "https://localhost:8080/"
        },
        "id": "ELRoYMvjkZPW",
        "outputId": "52708526-bb02-4286-ee5d-034ef3de14f4"
      },
      "execution_count": 45,
      "outputs": [
        {
          "output_type": "execute_result",
          "data": {
            "text/plain": [
              "['neighbourhood_Allerton',\n",
              " 'neighbourhood_Arden Heights',\n",
              " 'neighbourhood_Arrochar',\n",
              " 'neighbourhood_Arverne',\n",
              " 'neighbourhood_Astoria',\n",
              " 'neighbourhood_Bath Beach',\n",
              " 'neighbourhood_Battery Park City',\n",
              " 'neighbourhood_Bay Ridge',\n",
              " 'neighbourhood_Bay Terrace',\n",
              " 'neighbourhood_Baychester',\n",
              " 'neighbourhood_Bayside',\n",
              " 'neighbourhood_Bayswater',\n",
              " 'neighbourhood_Bedford-Stuyvesant',\n",
              " 'neighbourhood_Belle Harbor',\n",
              " 'neighbourhood_Bellerose',\n",
              " 'neighbourhood_Belmont',\n",
              " 'neighbourhood_Bensonhurst',\n",
              " 'neighbourhood_Bergen Beach',\n",
              " 'neighbourhood_Boerum Hill',\n",
              " 'neighbourhood_Borough Park',\n",
              " 'neighbourhood_Breezy Point',\n",
              " 'neighbourhood_Briarwood',\n",
              " 'neighbourhood_Brighton Beach',\n",
              " 'neighbourhood_Brightwood Park, Crestwood, Petworth',\n",
              " 'neighbourhood_Bronxdale',\n",
              " 'neighbourhood_Brookland, Brentwood, Langdon',\n",
              " 'neighbourhood_Brooklyn Heights',\n",
              " 'neighbourhood_Brownsville',\n",
              " \"neighbourhood_Bull's Head\",\n",
              " 'neighbourhood_Bushwick',\n",
              " 'neighbourhood_Cambria Heights',\n",
              " 'neighbourhood_Canarsie',\n",
              " 'neighbourhood_Capitol Hill, Lincoln Park',\n",
              " 'neighbourhood_Capitol View, Marshall Heights, Benning Heights',\n",
              " 'neighbourhood_Carroll Gardens',\n",
              " 'neighbourhood_Castle Hill',\n",
              " 'neighbourhood_Castleton Corners',\n",
              " 'neighbourhood_Cathedral Heights, McLean Gardens, Glover Park',\n",
              " 'neighbourhood_Central',\n",
              " 'neighbourhood_Chelsea',\n",
              " 'neighbourhood_Chelsea, Staten Island',\n",
              " 'neighbourhood_Chinatown',\n",
              " 'neighbourhood_City Island',\n",
              " 'neighbourhood_Civic Center',\n",
              " 'neighbourhood_Claremont Village',\n",
              " 'neighbourhood_Clason Point',\n",
              " 'neighbourhood_Cleveland Park, Woodley Park, Massachusetts Avenue Heights, Woodland-Normanstone Terrace',\n",
              " 'neighbourhood_Clifton',\n",
              " 'neighbourhood_Clinton Hill',\n",
              " 'neighbourhood_Co-op City',\n",
              " 'neighbourhood_Cobble Hill',\n",
              " 'neighbourhood_College Point',\n",
              " 'neighbourhood_Colonial Village, Shepherd Park, North Portal Estates',\n",
              " 'neighbourhood_Columbia Heights, Mt. Pleasant, Pleasant Plains, Park View',\n",
              " 'neighbourhood_Columbia St',\n",
              " 'neighbourhood_Concord',\n",
              " 'neighbourhood_Concourse',\n",
              " 'neighbourhood_Concourse Village',\n",
              " 'neighbourhood_Coney Island',\n",
              " 'neighbourhood_Congress Heights, Bellevue, Washington Highlands',\n",
              " 'neighbourhood_Corona',\n",
              " 'neighbourhood_Country Club',\n",
              " 'neighbourhood_Crown Heights',\n",
              " 'neighbourhood_Cypress Hills',\n",
              " 'neighbourhood_DUMBO',\n",
              " 'neighbourhood_Deanwood, Burrville, Grant Park, Lincoln Heights, Fairmont Heights',\n",
              " 'neighbourhood_Ditmars Steinway',\n",
              " 'neighbourhood_Dongan Hills',\n",
              " 'neighbourhood_Douglas, Shipley Terrace',\n",
              " 'neighbourhood_Douglaston',\n",
              " 'neighbourhood_Downtown Brooklyn',\n",
              " 'neighbourhood_Downtown, Chinatown, Penn Quarters, Mount Vernon Square, North Capitol Street',\n",
              " 'neighbourhood_Dupont Circle, Connecticut Avenue/K Street',\n",
              " 'neighbourhood_Dyker Heights',\n",
              " 'neighbourhood_East',\n",
              " 'neighbourhood_East Elmhurst',\n",
              " 'neighbourhood_East Flatbush',\n",
              " 'neighbourhood_East Harlem',\n",
              " 'neighbourhood_East Morrisania',\n",
              " 'neighbourhood_East New York',\n",
              " 'neighbourhood_East Village',\n",
              " 'neighbourhood_Eastchester',\n",
              " 'neighbourhood_Eastland Gardens, Kenilworth',\n",
              " 'neighbourhood_Edenwald',\n",
              " 'neighbourhood_Edgemere',\n",
              " 'neighbourhood_Edgewood, Bloomingdale, Truxton Circle, Eckington',\n",
              " 'neighbourhood_Elmhurst',\n",
              " 'neighbourhood_Eltingville',\n",
              " 'neighbourhood_Emerson Hill',\n",
              " 'neighbourhood_Fairfax Village, Naylor Gardens, Hillcrest, Summit Park',\n",
              " 'neighbourhood_Far Rockaway',\n",
              " 'neighbourhood_Fieldston',\n",
              " 'neighbourhood_Financial District',\n",
              " 'neighbourhood_Flatbush',\n",
              " 'neighbourhood_Flatiron District',\n",
              " 'neighbourhood_Flatlands',\n",
              " 'neighbourhood_Flushing',\n",
              " 'neighbourhood_Fordham',\n",
              " 'neighbourhood_Forest Hills',\n",
              " 'neighbourhood_Fort Greene',\n",
              " 'neighbourhood_Fort Hamilton',\n",
              " 'neighbourhood_Fort Wadsworth',\n",
              " 'neighbourhood_Fresh Meadows',\n",
              " 'neighbourhood_Friendship Heights, American University Park, Tenleytown',\n",
              " 'neighbourhood_Georgetown, Burleith/Hillandale',\n",
              " 'neighbourhood_Gerritsen Beach',\n",
              " 'neighbourhood_Glendale',\n",
              " 'neighbourhood_Gowanus',\n",
              " 'neighbourhood_Gramercy',\n",
              " 'neighbourhood_Graniteville',\n",
              " 'neighbourhood_Grant City',\n",
              " 'neighbourhood_Gravesend',\n",
              " 'neighbourhood_Great Kills',\n",
              " 'neighbourhood_Greenpoint',\n",
              " 'neighbourhood_Greenwich Village',\n",
              " 'neighbourhood_Grymes Hill',\n",
              " 'neighbourhood_Harlem',\n",
              " 'neighbourhood_Hawthorne, Barnaby Woods, Chevy Chase',\n",
              " \"neighbourhood_Hell's Kitchen\",\n",
              " 'neighbourhood_Highbridge',\n",
              " 'neighbourhood_Historic Anacostia',\n",
              " 'neighbourhood_Hollis',\n",
              " 'neighbourhood_Hollis Hills',\n",
              " 'neighbourhood_Holliswood',\n",
              " 'neighbourhood_Howard Beach',\n",
              " 'neighbourhood_Howard University, Le Droit Park, Cardozo/Shaw',\n",
              " 'neighbourhood_Howland Hook',\n",
              " 'neighbourhood_Huguenot',\n",
              " 'neighbourhood_Hunts Point',\n",
              " 'neighbourhood_Inwood',\n",
              " 'neighbourhood_Ivy City, Arboretum, Trinidad, Carver Langston',\n",
              " 'neighbourhood_Jackson Heights',\n",
              " 'neighbourhood_Jamaica',\n",
              " 'neighbourhood_Jamaica Estates',\n",
              " 'neighbourhood_Jamaica Hills',\n",
              " 'neighbourhood_Kalorama Heights, Adams Morgan, Lanier Heights',\n",
              " 'neighbourhood_Kensington',\n",
              " 'neighbourhood_Kew Gardens',\n",
              " 'neighbourhood_Kew Gardens Hills',\n",
              " 'neighbourhood_Kingsbridge',\n",
              " 'neighbourhood_Kips Bay',\n",
              " 'neighbourhood_Lamont Riggs, Queens Chapel, Fort Totten, Pleasant Hill',\n",
              " 'neighbourhood_Laurelton',\n",
              " 'neighbourhood_Lighthouse Hill',\n",
              " 'neighbourhood_Little Italy',\n",
              " 'neighbourhood_Little Neck',\n",
              " 'neighbourhood_Long Island City',\n",
              " 'neighbourhood_Longwood',\n",
              " 'neighbourhood_Lower East Side',\n",
              " 'neighbourhood_Manhattan Beach',\n",
              " 'neighbourhood_Marble Hill',\n",
              " 'neighbourhood_Mariners Harbor',\n",
              " 'neighbourhood_Maspeth',\n",
              " 'neighbourhood_Mayfair, Hillbrook, Mahaning Heights',\n",
              " 'neighbourhood_Melrose',\n",
              " 'neighbourhood_Middle Village',\n",
              " 'neighbourhood_Midland Beach',\n",
              " 'neighbourhood_Midtown',\n",
              " 'neighbourhood_Midwood',\n",
              " 'neighbourhood_Mill Basin',\n",
              " 'neighbourhood_Morningside Heights',\n",
              " 'neighbourhood_Morris Heights',\n",
              " 'neighbourhood_Morris Park',\n",
              " 'neighbourhood_Morrisania',\n",
              " 'neighbourhood_Mott Haven',\n",
              " 'neighbourhood_Mount Eden',\n",
              " 'neighbourhood_Mount Hope',\n",
              " 'neighbourhood_Murray Hill',\n",
              " 'neighbourhood_Navy Yard',\n",
              " 'neighbourhood_Near Southeast, Navy Yard',\n",
              " 'neighbourhood_Neponsit',\n",
              " 'neighbourhood_New Brighton',\n",
              " 'neighbourhood_New Dorp',\n",
              " 'neighbourhood_New Dorp Beach',\n",
              " 'neighbourhood_New Springville',\n",
              " 'neighbourhood_NoHo',\n",
              " 'neighbourhood_Nolita',\n",
              " 'neighbourhood_North',\n",
              " 'neighbourhood_North Cleveland Park, Forest Hills, Van Ness',\n",
              " 'neighbourhood_North Michigan Park, Michigan Park, University Heights',\n",
              " 'neighbourhood_North Riverdale',\n",
              " 'neighbourhood_Norwood',\n",
              " 'neighbourhood_Oakwood',\n",
              " 'neighbourhood_Olinville',\n",
              " 'neighbourhood_Ozone Park',\n",
              " 'neighbourhood_Park Slope',\n",
              " 'neighbourhood_Parkchester',\n",
              " 'neighbourhood_Pelham Bay',\n",
              " 'neighbourhood_Pelham Gardens',\n",
              " 'neighbourhood_Port Morris',\n",
              " 'neighbourhood_Port Richmond',\n",
              " \"neighbourhood_Prince's Bay\",\n",
              " 'neighbourhood_Prospect Heights',\n",
              " 'neighbourhood_Prospect-Lefferts Gardens',\n",
              " 'neighbourhood_Queens Village',\n",
              " 'neighbourhood_Randall Manor',\n",
              " 'neighbourhood_Red Hook',\n",
              " 'neighbourhood_Rego Park',\n",
              " 'neighbourhood_Richmond Hill',\n",
              " 'neighbourhood_Richmondtown',\n",
              " 'neighbourhood_Ridgewood',\n",
              " 'neighbourhood_River Terrace, Benning, Greenway, Dupont Park',\n",
              " 'neighbourhood_Riverdale',\n",
              " 'neighbourhood_Rockaway Beach',\n",
              " 'neighbourhood_Roosevelt Island',\n",
              " 'neighbourhood_Rosebank',\n",
              " 'neighbourhood_Rosedale',\n",
              " 'neighbourhood_Schuylerville',\n",
              " 'neighbourhood_Sea Gate',\n",
              " 'neighbourhood_Shaw, Logan Circle',\n",
              " 'neighbourhood_Sheepshead Bay',\n",
              " 'neighbourhood_Sheridan, Barry Farm, Buena Vista',\n",
              " 'neighbourhood_Shore Acres',\n",
              " 'neighbourhood_Silver Lake',\n",
              " 'neighbourhood_SoHo',\n",
              " 'neighbourhood_Soundview',\n",
              " 'neighbourhood_South',\n",
              " 'neighbourhood_South Beach',\n",
              " 'neighbourhood_South Ozone Park',\n",
              " 'neighbourhood_South Slope',\n",
              " 'neighbourhood_Southwest Employment Area, Southwest/Waterfront, Fort McNair, Buzzard Point',\n",
              " 'neighbourhood_Spring Valley, Palisades, Wesley Heights, Foxhall Crescent, Foxhall Village, Georgetown Reservoir',\n",
              " 'neighbourhood_Springfield Gardens',\n",
              " 'neighbourhood_Spuyten Duyvil',\n",
              " 'neighbourhood_St. Albans',\n",
              " 'neighbourhood_St. George',\n",
              " 'neighbourhood_Stapleton',\n",
              " 'neighbourhood_Stuyvesant Town',\n",
              " 'neighbourhood_Sunnyside',\n",
              " 'neighbourhood_Sunset Park',\n",
              " 'neighbourhood_Takoma, Brightwood, Manor Park',\n",
              " 'neighbourhood_Theater District',\n",
              " 'neighbourhood_Throgs Neck',\n",
              " 'neighbourhood_Todt Hill',\n",
              " 'neighbourhood_Tompkinsville',\n",
              " 'neighbourhood_Tottenville',\n",
              " 'neighbourhood_Tremont',\n",
              " 'neighbourhood_Tribeca',\n",
              " 'neighbourhood_Twining, Fairlawn, Randle Highlands, Penn Branch, Fort Davis Park, Fort Dupont',\n",
              " 'neighbourhood_Two Bridges',\n",
              " 'neighbourhood_Union Station, Stanton Park, Kingman Park',\n",
              " 'neighbourhood_Unionport',\n",
              " 'neighbourhood_University Heights',\n",
              " 'neighbourhood_Upper East Side',\n",
              " 'neighbourhood_Upper West Side',\n",
              " 'neighbourhood_Van Nest',\n",
              " 'neighbourhood_Vinegar Hill',\n",
              " 'neighbourhood_Wakefield',\n",
              " 'neighbourhood_Washington Heights',\n",
              " 'neighbourhood_West',\n",
              " 'neighbourhood_West Brighton',\n",
              " 'neighbourhood_West End, Foggy Bottom, GWU',\n",
              " 'neighbourhood_West Farms',\n",
              " 'neighbourhood_West Village',\n",
              " 'neighbourhood_Westchester Square',\n",
              " 'neighbourhood_Westerleigh',\n",
              " 'neighbourhood_Whitestone',\n",
              " 'neighbourhood_Williamsbridge',\n",
              " 'neighbourhood_Williamsburg',\n",
              " 'neighbourhood_Willowbrook',\n",
              " 'neighbourhood_Windsor Terrace',\n",
              " 'neighbourhood_Woodhaven',\n",
              " 'neighbourhood_Woodland/Fort Stanton, Garfield Heights, Knox Hill',\n",
              " 'neighbourhood_Woodlawn',\n",
              " 'neighbourhood_Woodridge, Fort Lincoln, Gateway',\n",
              " 'neighbourhood_Woodrow',\n",
              " 'neighbourhood_Woodside']"
            ]
          },
          "metadata": {},
          "execution_count": 45
        }
      ]
    },
    {
      "cell_type": "code",
      "source": [
        "c[-7:-3]"
      ],
      "metadata": {
        "colab": {
          "base_uri": "https://localhost:8080/"
        },
        "id": "moxVsq_kkiP2",
        "outputId": "5283c49f-35e6-4388-cc4b-2e8798fc2200"
      },
      "execution_count": 47,
      "outputs": [
        {
          "output_type": "execute_result",
          "data": {
            "text/plain": [
              "['room_type_Entire home/apt',\n",
              " 'room_type_Hotel room',\n",
              " 'room_type_Private room',\n",
              " 'room_type_Shared room']"
            ]
          },
          "metadata": {},
          "execution_count": 47
        }
      ]
    },
    {
      "cell_type": "code",
      "source": [
        "c[-3:]"
      ],
      "metadata": {
        "colab": {
          "base_uri": "https://localhost:8080/"
        },
        "id": "_rT0XCU3knro",
        "outputId": "75f8ba9e-74d0-49fe-be3c-a5dfc0f210ce"
      },
      "execution_count": 48,
      "outputs": [
        {
          "output_type": "execute_result",
          "data": {
            "text/plain": [
              "['location_New Jersey', 'location_New york', 'location_Washington D.C']"
            ]
          },
          "metadata": {},
          "execution_count": 48
        }
      ]
    },
    {
      "cell_type": "code",
      "source": [
        "ng = c[12:18]"
      ],
      "metadata": {
        "id": "GT4GjellZR6B"
      },
      "execution_count": 18,
      "outputs": []
    },
    {
      "cell_type": "code",
      "source": [
        "ng = c[12:18]\n",
        "ne = c[18:-7]\n",
        "rt = c[-7:-3]\n",
        "loc = c[-3:]\n",
        "loc = [s.replace(\" \", \"_\") for s in loc]\n",
        "ng = [s.replace(\" \", \"_\") for s in ng]\n",
        "ne = [s.replace(\" \", \"_\") for s in ne]\n",
        "locd =  {var: 0 for var in loc}\n",
        "ngd =  {var: 0 for var in ng}\n",
        "ned =  {var: 0 for var in ne}"
      ],
      "metadata": {
        "id": "H6lGiaGRkzlt"
      },
      "execution_count": 22,
      "outputs": []
    },
    {
      "cell_type": "code",
      "source": [
        "ne = c[18:-7]"
      ],
      "metadata": {
        "id": "J26CMlmoZ-ya"
      },
      "execution_count": 23,
      "outputs": []
    },
    {
      "cell_type": "code",
      "source": [
        "len(ne)"
      ],
      "metadata": {
        "colab": {
          "base_uri": "https://localhost:8080/"
        },
        "id": "6jpKigYbb4QS",
        "outputId": "69340286-1af9-45a3-a6e9-9272f1fe888c"
      },
      "execution_count": 72,
      "outputs": [
        {
          "output_type": "execute_result",
          "data": {
            "text/plain": [
              "267"
            ]
          },
          "metadata": {},
          "execution_count": 72
        }
      ]
    },
    {
      "cell_type": "code",
      "source": [
        "len(ng)"
      ],
      "metadata": {
        "colab": {
          "base_uri": "https://localhost:8080/"
        },
        "id": "3QqeZ1SE0pvc",
        "outputId": "f9f3488e-c6ce-42ef-ba5a-888b7249ee13"
      },
      "execution_count": 73,
      "outputs": [
        {
          "output_type": "execute_result",
          "data": {
            "text/plain": [
              "6"
            ]
          },
          "metadata": {},
          "execution_count": 73
        }
      ]
    },
    {
      "cell_type": "code",
      "source": [
        "len(rt)"
      ],
      "metadata": {
        "colab": {
          "base_uri": "https://localhost:8080/"
        },
        "id": "cn-HVS050r3p",
        "outputId": "9c842082-bae7-4479-b9ce-f15da465d3ff"
      },
      "execution_count": 74,
      "outputs": [
        {
          "output_type": "execute_result",
          "data": {
            "text/plain": [
              "4"
            ]
          },
          "metadata": {},
          "execution_count": 74
        }
      ]
    },
    {
      "cell_type": "code",
      "source": [
        "rt = c[-7:-3]"
      ],
      "metadata": {
        "id": "H-syw0f_aBsE"
      },
      "execution_count": 24,
      "outputs": []
    },
    {
      "cell_type": "code",
      "source": [
        "rt"
      ],
      "metadata": {
        "colab": {
          "base_uri": "https://localhost:8080/"
        },
        "id": "7DecbAZZGT9S",
        "outputId": "8c1497c0-fa3e-48f5-b287-a986e02be452"
      },
      "execution_count": 25,
      "outputs": [
        {
          "output_type": "execute_result",
          "data": {
            "text/plain": [
              "['room_type_Entire home/apt',\n",
              " 'room_type_Hotel room',\n",
              " 'room_type_Private room',\n",
              " 'room_type_Shared room']"
            ]
          },
          "metadata": {},
          "execution_count": 25
        }
      ]
    },
    {
      "cell_type": "code",
      "source": [
        "loc = c[-3:]"
      ],
      "metadata": {
        "id": "n7LdjanSaWtl"
      },
      "execution_count": 26,
      "outputs": []
    },
    {
      "cell_type": "code",
      "source": [
        "loc"
      ],
      "metadata": {
        "colab": {
          "base_uri": "https://localhost:8080/"
        },
        "id": "nXVnT1tpadAY",
        "outputId": "7409c363-6b60-43d7-ef18-d7e77754c244"
      },
      "execution_count": 27,
      "outputs": [
        {
          "output_type": "execute_result",
          "data": {
            "text/plain": [
              "['location_New Jersey', 'location_New york', 'location_Washington D.C']"
            ]
          },
          "metadata": {},
          "execution_count": 27
        }
      ]
    },
    {
      "cell_type": "code",
      "source": [
        "loc = [s.replace(\" \", \"_\") for s in loc]"
      ],
      "metadata": {
        "id": "szpa0nFBbhlg"
      },
      "execution_count": 28,
      "outputs": []
    },
    {
      "cell_type": "code",
      "source": [
        "ng = [s.replace(\" \", \"_\") for s in ng]\n",
        "ne = [s.replace(\" \", \"_\") for s in ne]"
      ],
      "metadata": {
        "id": "tMDp3aFydmwV"
      },
      "execution_count": 29,
      "outputs": []
    },
    {
      "cell_type": "code",
      "source": [
        "locd =  {var: 0 for var in loc}"
      ],
      "metadata": {
        "id": "G9GMMbqahfMs"
      },
      "execution_count": 30,
      "outputs": []
    },
    {
      "cell_type": "code",
      "source": [
        "ngd =  {var: 0 for var in ng}\n",
        "ned =  {var: 0 for var in ne}"
      ],
      "metadata": {
        "id": "PXlqNWcqjzsc"
      },
      "execution_count": 31,
      "outputs": []
    },
    {
      "cell_type": "code",
      "source": [
        "a = []\n",
        "a = X_df.head(1)\n",
        "a = X_df.head(1).values.tolist()\n",
        "print(a)"
      ],
      "metadata": {
        "colab": {
          "base_uri": "https://localhost:8080/"
        },
        "id": "ddcUBEnOKJAJ",
        "outputId": "32c2f045-6585-48dc-d9ce-bf93aabdca0e"
      },
      "execution_count": 32,
      "outputs": [
        {
          "output_type": "stream",
          "name": "stdout",
          "text": [
            "[[40.66265, -73.99454, 3.091042453358316, 3, 4108, 0.03, 1, 267, 1, False, False, False, 0, 1, 0, 0, 0, 0, 0, 0, 0, 0, 0, 0, 0, 0, 0, 0, 0, 0, 0, 0, 0, 0, 0, 0, 0, 0, 0, 0, 0, 0, 0, 0, 0, 0, 0, 0, 0, 0, 0, 0, 0, 0, 0, 0, 0, 0, 0, 0, 0, 0, 0, 0, 0, 0, 0, 0, 0, 0, 0, 0, 0, 0, 0, 0, 0, 0, 0, 0, 0, 0, 0, 0, 0, 0, 0, 0, 0, 0, 0, 0, 0, 0, 0, 0, 0, 0, 0, 0, 0, 0, 0, 0, 0, 0, 0, 0, 0, 0, 0, 0, 0, 0, 0, 0, 0, 0, 0, 0, 0, 0, 0, 0, 0, 0, 0, 0, 0, 0, 0, 0, 0, 0, 0, 0, 0, 0, 0, 0, 0, 0, 0, 0, 0, 0, 0, 0, 0, 0, 0, 0, 0, 0, 0, 0, 0, 0, 0, 0, 0, 0, 0, 0, 0, 0, 0, 0, 0, 0, 0, 0, 0, 0, 0, 0, 0, 0, 0, 0, 0, 0, 0, 0, 0, 0, 0, 0, 0, 0, 0, 0, 0, 0, 0, 0, 0, 0, 0, 0, 0, 0, 0, 0, 0, 0, 0, 0, 0, 0, 0, 0, 0, 0, 0, 0, 0, 0, 0, 0, 0, 0, 0, 0, 0, 0, 0, 0, 0, 0, 0, 0, 0, 0, 0, 0, 0, 0, 0, 0, 0, 0, 0, 0, 0, 0, 0, 1, 0, 0, 0, 0, 0, 0, 0, 0, 0, 0, 0, 0, 0, 0, 0, 0, 0, 0, 0, 0, 0, 0, 0, 0, 0, 0, 0, 0, 0, 0, 0, 0, 0, 0, 0, 0, 0, 1, 0, 0, 0, 0, 1, 0]]\n"
          ]
        }
      ]
    },
    {
      "cell_type": "code",
      "source": [
        "import pickle\n",
        "import math\n",
        "\n",
        "# load the saved model\n",
        "with open('regressor.pickle', 'rb') as f:\n",
        "    regressor = pickle.load(f)\n",
        "\n",
        "# make predictions on new data\n",
        "new_data = a\n",
        "prediction = regressor.predict(new_data)\n",
        "\n",
        "print(math.exp(prediction))"
      ],
      "metadata": {
        "colab": {
          "base_uri": "https://localhost:8080/"
        },
        "id": "aMYqceq8IIMK",
        "outputId": "480d9b11-4774-479c-81b5-a33753e6cdb2"
      },
      "execution_count": 33,
      "outputs": [
        {
          "output_type": "stream",
          "name": "stdout",
          "text": [
            "183.98946413687293\n"
          ]
        }
      ]
    },
    {
      "cell_type": "code",
      "source": [
        "from sklearn.ensemble import RandomForestRegressor\n",
        "from sklearn.model_selection import GridSearchCV\n",
        "from sklearn.metrics import r2_score\n",
        "\n",
        "# Define the parameter grid to search over\n",
        "param_grid = {\n",
        "    'n_estimators': [50, 100, 150],\n",
        "    'max_depth': [5, 10, None],\n",
        "    'max_features': ['sqrt', 'log2', None]\n",
        "}\n",
        "\n",
        "# Create a random forest regressor\n",
        "regressor = RandomForestRegressor(random_state=42)\n",
        "\n",
        "# Create a grid search object\n",
        "grid_search = GridSearchCV(\n",
        "    estimator=regressor,\n",
        "    param_grid=param_grid,\n",
        "    scoring='r2',\n",
        "    cv=5,\n",
        "    n_jobs=-1\n",
        ")\n",
        "\n",
        "# Fit the grid search object to the data\n",
        "grid_search.fit(X_train, y_train)\n",
        "\n",
        "# Print the best parameters and score\n",
        "print(\"Best parameters:\", grid_search.best_params_)\n",
        "print(\"Best score:\", grid_search.best_score_)\n",
        "\n",
        "# Make predictions on the testing set using the best model\n",
        "best_regressor = grid_search.best_estimator_\n",
        "y_pred = best_regressor.predict(X_test)\n",
        "\n",
        "# Calculate the R2 score of the best model\n",
        "r2 = r2_score(y_test, y_pred)\n",
        "print(\"R2 Score:\", r2)\n"
      ],
      "metadata": {
        "colab": {
          "base_uri": "https://localhost:8080/",
          "height": 389
        },
        "id": "WNqbobzuCvhJ",
        "outputId": "89ca47db-40cc-437c-9d93-c1d82424fc3e"
      },
      "execution_count": 34,
      "outputs": [
        {
          "output_type": "error",
          "ename": "KeyboardInterrupt",
          "evalue": "ignored",
          "traceback": [
            "\u001b[0;31m---------------------------------------------------------------------------\u001b[0m",
            "\u001b[0;31mKeyboardInterrupt\u001b[0m                         Traceback (most recent call last)",
            "\u001b[0;32m<ipython-input-34-7a531804ad9a>\u001b[0m in \u001b[0;36m<cell line: 25>\u001b[0;34m()\u001b[0m\n\u001b[1;32m     23\u001b[0m \u001b[0;34m\u001b[0m\u001b[0m\n\u001b[1;32m     24\u001b[0m \u001b[0;31m# Fit the grid search object to the data\u001b[0m\u001b[0;34m\u001b[0m\u001b[0;34m\u001b[0m\u001b[0m\n\u001b[0;32m---> 25\u001b[0;31m \u001b[0mgrid_search\u001b[0m\u001b[0;34m.\u001b[0m\u001b[0mfit\u001b[0m\u001b[0;34m(\u001b[0m\u001b[0mX_train\u001b[0m\u001b[0;34m,\u001b[0m \u001b[0my_train\u001b[0m\u001b[0;34m)\u001b[0m\u001b[0;34m\u001b[0m\u001b[0;34m\u001b[0m\u001b[0m\n\u001b[0m\u001b[1;32m     26\u001b[0m \u001b[0;34m\u001b[0m\u001b[0m\n\u001b[1;32m     27\u001b[0m \u001b[0;31m# Print the best parameters and score\u001b[0m\u001b[0;34m\u001b[0m\u001b[0;34m\u001b[0m\u001b[0m\n",
            "\u001b[0;32m/usr/local/lib/python3.10/dist-packages/sklearn/model_selection/_search.py\u001b[0m in \u001b[0;36mfit\u001b[0;34m(self, X, y, groups, **fit_params)\u001b[0m\n\u001b[1;32m    872\u001b[0m                 \u001b[0;32mreturn\u001b[0m \u001b[0mresults\u001b[0m\u001b[0;34m\u001b[0m\u001b[0;34m\u001b[0m\u001b[0m\n\u001b[1;32m    873\u001b[0m \u001b[0;34m\u001b[0m\u001b[0m\n\u001b[0;32m--> 874\u001b[0;31m             \u001b[0mself\u001b[0m\u001b[0;34m.\u001b[0m\u001b[0m_run_search\u001b[0m\u001b[0;34m(\u001b[0m\u001b[0mevaluate_candidates\u001b[0m\u001b[0;34m)\u001b[0m\u001b[0;34m\u001b[0m\u001b[0;34m\u001b[0m\u001b[0m\n\u001b[0m\u001b[1;32m    875\u001b[0m \u001b[0;34m\u001b[0m\u001b[0m\n\u001b[1;32m    876\u001b[0m             \u001b[0;31m# multimetric is determined here because in the case of a callable\u001b[0m\u001b[0;34m\u001b[0m\u001b[0;34m\u001b[0m\u001b[0m\n",
            "\u001b[0;32m/usr/local/lib/python3.10/dist-packages/sklearn/model_selection/_search.py\u001b[0m in \u001b[0;36m_run_search\u001b[0;34m(self, evaluate_candidates)\u001b[0m\n\u001b[1;32m   1386\u001b[0m     \u001b[0;32mdef\u001b[0m \u001b[0m_run_search\u001b[0m\u001b[0;34m(\u001b[0m\u001b[0mself\u001b[0m\u001b[0;34m,\u001b[0m \u001b[0mevaluate_candidates\u001b[0m\u001b[0;34m)\u001b[0m\u001b[0;34m:\u001b[0m\u001b[0;34m\u001b[0m\u001b[0;34m\u001b[0m\u001b[0m\n\u001b[1;32m   1387\u001b[0m         \u001b[0;34m\"\"\"Search all candidates in param_grid\"\"\"\u001b[0m\u001b[0;34m\u001b[0m\u001b[0;34m\u001b[0m\u001b[0m\n\u001b[0;32m-> 1388\u001b[0;31m         \u001b[0mevaluate_candidates\u001b[0m\u001b[0;34m(\u001b[0m\u001b[0mParameterGrid\u001b[0m\u001b[0;34m(\u001b[0m\u001b[0mself\u001b[0m\u001b[0;34m.\u001b[0m\u001b[0mparam_grid\u001b[0m\u001b[0;34m)\u001b[0m\u001b[0;34m)\u001b[0m\u001b[0;34m\u001b[0m\u001b[0;34m\u001b[0m\u001b[0m\n\u001b[0m\u001b[1;32m   1389\u001b[0m \u001b[0;34m\u001b[0m\u001b[0m\n\u001b[1;32m   1390\u001b[0m \u001b[0;34m\u001b[0m\u001b[0m\n",
            "\u001b[0;32m/usr/local/lib/python3.10/dist-packages/sklearn/model_selection/_search.py\u001b[0m in \u001b[0;36mevaluate_candidates\u001b[0;34m(candidate_params, cv, more_results)\u001b[0m\n\u001b[1;32m    819\u001b[0m                     )\n\u001b[1;32m    820\u001b[0m \u001b[0;34m\u001b[0m\u001b[0m\n\u001b[0;32m--> 821\u001b[0;31m                 out = parallel(\n\u001b[0m\u001b[1;32m    822\u001b[0m                     delayed(_fit_and_score)(\n\u001b[1;32m    823\u001b[0m                         \u001b[0mclone\u001b[0m\u001b[0;34m(\u001b[0m\u001b[0mbase_estimator\u001b[0m\u001b[0;34m)\u001b[0m\u001b[0;34m,\u001b[0m\u001b[0;34m\u001b[0m\u001b[0;34m\u001b[0m\u001b[0m\n",
            "\u001b[0;32m/usr/local/lib/python3.10/dist-packages/sklearn/utils/parallel.py\u001b[0m in \u001b[0;36m__call__\u001b[0;34m(self, iterable)\u001b[0m\n\u001b[1;32m     61\u001b[0m             \u001b[0;32mfor\u001b[0m \u001b[0mdelayed_func\u001b[0m\u001b[0;34m,\u001b[0m \u001b[0margs\u001b[0m\u001b[0;34m,\u001b[0m \u001b[0mkwargs\u001b[0m \u001b[0;32min\u001b[0m \u001b[0miterable\u001b[0m\u001b[0;34m\u001b[0m\u001b[0;34m\u001b[0m\u001b[0m\n\u001b[1;32m     62\u001b[0m         )\n\u001b[0;32m---> 63\u001b[0;31m         \u001b[0;32mreturn\u001b[0m \u001b[0msuper\u001b[0m\u001b[0;34m(\u001b[0m\u001b[0;34m)\u001b[0m\u001b[0;34m.\u001b[0m\u001b[0m__call__\u001b[0m\u001b[0;34m(\u001b[0m\u001b[0miterable_with_config\u001b[0m\u001b[0;34m)\u001b[0m\u001b[0;34m\u001b[0m\u001b[0;34m\u001b[0m\u001b[0m\n\u001b[0m\u001b[1;32m     64\u001b[0m \u001b[0;34m\u001b[0m\u001b[0m\n\u001b[1;32m     65\u001b[0m \u001b[0;34m\u001b[0m\u001b[0m\n",
            "\u001b[0;32m/usr/local/lib/python3.10/dist-packages/joblib/parallel.py\u001b[0m in \u001b[0;36m__call__\u001b[0;34m(self, iterable)\u001b[0m\n\u001b[1;32m   1096\u001b[0m \u001b[0;34m\u001b[0m\u001b[0m\n\u001b[1;32m   1097\u001b[0m             \u001b[0;32mwith\u001b[0m \u001b[0mself\u001b[0m\u001b[0;34m.\u001b[0m\u001b[0m_backend\u001b[0m\u001b[0;34m.\u001b[0m\u001b[0mretrieval_context\u001b[0m\u001b[0;34m(\u001b[0m\u001b[0;34m)\u001b[0m\u001b[0;34m:\u001b[0m\u001b[0;34m\u001b[0m\u001b[0;34m\u001b[0m\u001b[0m\n\u001b[0;32m-> 1098\u001b[0;31m                 \u001b[0mself\u001b[0m\u001b[0;34m.\u001b[0m\u001b[0mretrieve\u001b[0m\u001b[0;34m(\u001b[0m\u001b[0;34m)\u001b[0m\u001b[0;34m\u001b[0m\u001b[0;34m\u001b[0m\u001b[0m\n\u001b[0m\u001b[1;32m   1099\u001b[0m             \u001b[0;31m# Make sure that we get a last message telling us we are done\u001b[0m\u001b[0;34m\u001b[0m\u001b[0;34m\u001b[0m\u001b[0m\n\u001b[1;32m   1100\u001b[0m             \u001b[0melapsed_time\u001b[0m \u001b[0;34m=\u001b[0m \u001b[0mtime\u001b[0m\u001b[0;34m.\u001b[0m\u001b[0mtime\u001b[0m\u001b[0;34m(\u001b[0m\u001b[0;34m)\u001b[0m \u001b[0;34m-\u001b[0m \u001b[0mself\u001b[0m\u001b[0;34m.\u001b[0m\u001b[0m_start_time\u001b[0m\u001b[0;34m\u001b[0m\u001b[0;34m\u001b[0m\u001b[0m\n",
            "\u001b[0;32m/usr/local/lib/python3.10/dist-packages/joblib/parallel.py\u001b[0m in \u001b[0;36mretrieve\u001b[0;34m(self)\u001b[0m\n\u001b[1;32m    973\u001b[0m             \u001b[0;32mtry\u001b[0m\u001b[0;34m:\u001b[0m\u001b[0;34m\u001b[0m\u001b[0;34m\u001b[0m\u001b[0m\n\u001b[1;32m    974\u001b[0m                 \u001b[0;32mif\u001b[0m \u001b[0mgetattr\u001b[0m\u001b[0;34m(\u001b[0m\u001b[0mself\u001b[0m\u001b[0;34m.\u001b[0m\u001b[0m_backend\u001b[0m\u001b[0;34m,\u001b[0m \u001b[0;34m'supports_timeout'\u001b[0m\u001b[0;34m,\u001b[0m \u001b[0;32mFalse\u001b[0m\u001b[0;34m)\u001b[0m\u001b[0;34m:\u001b[0m\u001b[0;34m\u001b[0m\u001b[0;34m\u001b[0m\u001b[0m\n\u001b[0;32m--> 975\u001b[0;31m                     \u001b[0mself\u001b[0m\u001b[0;34m.\u001b[0m\u001b[0m_output\u001b[0m\u001b[0;34m.\u001b[0m\u001b[0mextend\u001b[0m\u001b[0;34m(\u001b[0m\u001b[0mjob\u001b[0m\u001b[0;34m.\u001b[0m\u001b[0mget\u001b[0m\u001b[0;34m(\u001b[0m\u001b[0mtimeout\u001b[0m\u001b[0;34m=\u001b[0m\u001b[0mself\u001b[0m\u001b[0;34m.\u001b[0m\u001b[0mtimeout\u001b[0m\u001b[0;34m)\u001b[0m\u001b[0;34m)\u001b[0m\u001b[0;34m\u001b[0m\u001b[0;34m\u001b[0m\u001b[0m\n\u001b[0m\u001b[1;32m    976\u001b[0m                 \u001b[0;32melse\u001b[0m\u001b[0;34m:\u001b[0m\u001b[0;34m\u001b[0m\u001b[0;34m\u001b[0m\u001b[0m\n\u001b[1;32m    977\u001b[0m                     \u001b[0mself\u001b[0m\u001b[0;34m.\u001b[0m\u001b[0m_output\u001b[0m\u001b[0;34m.\u001b[0m\u001b[0mextend\u001b[0m\u001b[0;34m(\u001b[0m\u001b[0mjob\u001b[0m\u001b[0;34m.\u001b[0m\u001b[0mget\u001b[0m\u001b[0;34m(\u001b[0m\u001b[0;34m)\u001b[0m\u001b[0;34m)\u001b[0m\u001b[0;34m\u001b[0m\u001b[0;34m\u001b[0m\u001b[0m\n",
            "\u001b[0;32m/usr/local/lib/python3.10/dist-packages/joblib/_parallel_backends.py\u001b[0m in \u001b[0;36mwrap_future_result\u001b[0;34m(future, timeout)\u001b[0m\n\u001b[1;32m    565\u001b[0m         AsyncResults.get from multiprocessing.\"\"\"\n\u001b[1;32m    566\u001b[0m         \u001b[0;32mtry\u001b[0m\u001b[0;34m:\u001b[0m\u001b[0;34m\u001b[0m\u001b[0;34m\u001b[0m\u001b[0m\n\u001b[0;32m--> 567\u001b[0;31m             \u001b[0;32mreturn\u001b[0m \u001b[0mfuture\u001b[0m\u001b[0;34m.\u001b[0m\u001b[0mresult\u001b[0m\u001b[0;34m(\u001b[0m\u001b[0mtimeout\u001b[0m\u001b[0;34m=\u001b[0m\u001b[0mtimeout\u001b[0m\u001b[0;34m)\u001b[0m\u001b[0;34m\u001b[0m\u001b[0;34m\u001b[0m\u001b[0m\n\u001b[0m\u001b[1;32m    568\u001b[0m         \u001b[0;32mexcept\u001b[0m \u001b[0mCfTimeoutError\u001b[0m \u001b[0;32mas\u001b[0m \u001b[0me\u001b[0m\u001b[0;34m:\u001b[0m\u001b[0;34m\u001b[0m\u001b[0;34m\u001b[0m\u001b[0m\n\u001b[1;32m    569\u001b[0m             \u001b[0;32mraise\u001b[0m \u001b[0mTimeoutError\u001b[0m \u001b[0;32mfrom\u001b[0m \u001b[0me\u001b[0m\u001b[0;34m\u001b[0m\u001b[0;34m\u001b[0m\u001b[0m\n",
            "\u001b[0;32m/usr/lib/python3.10/concurrent/futures/_base.py\u001b[0m in \u001b[0;36mresult\u001b[0;34m(self, timeout)\u001b[0m\n\u001b[1;32m    451\u001b[0m                     \u001b[0;32mreturn\u001b[0m \u001b[0mself\u001b[0m\u001b[0;34m.\u001b[0m\u001b[0m__get_result\u001b[0m\u001b[0;34m(\u001b[0m\u001b[0;34m)\u001b[0m\u001b[0;34m\u001b[0m\u001b[0;34m\u001b[0m\u001b[0m\n\u001b[1;32m    452\u001b[0m \u001b[0;34m\u001b[0m\u001b[0m\n\u001b[0;32m--> 453\u001b[0;31m                 \u001b[0mself\u001b[0m\u001b[0;34m.\u001b[0m\u001b[0m_condition\u001b[0m\u001b[0;34m.\u001b[0m\u001b[0mwait\u001b[0m\u001b[0;34m(\u001b[0m\u001b[0mtimeout\u001b[0m\u001b[0;34m)\u001b[0m\u001b[0;34m\u001b[0m\u001b[0;34m\u001b[0m\u001b[0m\n\u001b[0m\u001b[1;32m    454\u001b[0m \u001b[0;34m\u001b[0m\u001b[0m\n\u001b[1;32m    455\u001b[0m                 \u001b[0;32mif\u001b[0m \u001b[0mself\u001b[0m\u001b[0;34m.\u001b[0m\u001b[0m_state\u001b[0m \u001b[0;32min\u001b[0m \u001b[0;34m[\u001b[0m\u001b[0mCANCELLED\u001b[0m\u001b[0;34m,\u001b[0m \u001b[0mCANCELLED_AND_NOTIFIED\u001b[0m\u001b[0;34m]\u001b[0m\u001b[0;34m:\u001b[0m\u001b[0;34m\u001b[0m\u001b[0;34m\u001b[0m\u001b[0m\n",
            "\u001b[0;32m/usr/lib/python3.10/threading.py\u001b[0m in \u001b[0;36mwait\u001b[0;34m(self, timeout)\u001b[0m\n\u001b[1;32m    318\u001b[0m         \u001b[0;32mtry\u001b[0m\u001b[0;34m:\u001b[0m    \u001b[0;31m# restore state no matter what (e.g., KeyboardInterrupt)\u001b[0m\u001b[0;34m\u001b[0m\u001b[0;34m\u001b[0m\u001b[0m\n\u001b[1;32m    319\u001b[0m             \u001b[0;32mif\u001b[0m \u001b[0mtimeout\u001b[0m \u001b[0;32mis\u001b[0m \u001b[0;32mNone\u001b[0m\u001b[0;34m:\u001b[0m\u001b[0;34m\u001b[0m\u001b[0;34m\u001b[0m\u001b[0m\n\u001b[0;32m--> 320\u001b[0;31m                 \u001b[0mwaiter\u001b[0m\u001b[0;34m.\u001b[0m\u001b[0macquire\u001b[0m\u001b[0;34m(\u001b[0m\u001b[0;34m)\u001b[0m\u001b[0;34m\u001b[0m\u001b[0;34m\u001b[0m\u001b[0m\n\u001b[0m\u001b[1;32m    321\u001b[0m                 \u001b[0mgotit\u001b[0m \u001b[0;34m=\u001b[0m \u001b[0;32mTrue\u001b[0m\u001b[0;34m\u001b[0m\u001b[0;34m\u001b[0m\u001b[0m\n\u001b[1;32m    322\u001b[0m             \u001b[0;32melse\u001b[0m\u001b[0;34m:\u001b[0m\u001b[0;34m\u001b[0m\u001b[0;34m\u001b[0m\u001b[0m\n",
            "\u001b[0;31mKeyboardInterrupt\u001b[0m: "
          ]
        }
      ]
    },
    {
      "cell_type": "code",
      "source": [
        "!pip install streamlit_folium"
      ],
      "metadata": {
        "colab": {
          "base_uri": "https://localhost:8080/"
        },
        "id": "0DFVf8akDzQf",
        "outputId": "95e1af7f-89b5-43be-c926-5ca48f04525a"
      },
      "execution_count": 35,
      "outputs": [
        {
          "output_type": "stream",
          "name": "stdout",
          "text": [
            "Looking in indexes: https://pypi.org/simple, https://us-python.pkg.dev/colab-wheels/public/simple/\n",
            "Collecting streamlit_folium\n",
            "  Downloading streamlit_folium-0.11.1-py3-none-any.whl (423 kB)\n",
            "\u001b[2K     \u001b[90m━━━━━━━━━━━━━━━━━━━━━━━━━━━━━━━━━━━━━━━\u001b[0m \u001b[32m423.4/423.4 kB\u001b[0m \u001b[31m4.6 MB/s\u001b[0m eta \u001b[36m0:00:00\u001b[0m\n",
            "\u001b[?25hRequirement already satisfied: folium>=0.13 in /usr/local/lib/python3.10/dist-packages (from streamlit_folium) (0.14.0)\n",
            "Requirement already satisfied: jinja2 in /usr/local/lib/python3.10/dist-packages (from streamlit_folium) (3.1.2)\n",
            "Collecting streamlit>=1.13.0\n",
            "  Downloading streamlit-1.22.0-py2.py3-none-any.whl (8.9 MB)\n",
            "\u001b[2K     \u001b[90m━━━━━━━━━━━━━━━━━━━━━━━━━━━━━━━━━━━━━━━━\u001b[0m \u001b[32m8.9/8.9 MB\u001b[0m \u001b[31m45.6 MB/s\u001b[0m eta \u001b[36m0:00:00\u001b[0m\n",
            "\u001b[?25hRequirement already satisfied: branca in /usr/local/lib/python3.10/dist-packages (from streamlit_folium) (0.6.0)\n",
            "Requirement already satisfied: numpy in /usr/local/lib/python3.10/dist-packages (from folium>=0.13->streamlit_folium) (1.22.4)\n",
            "Requirement already satisfied: requests in /usr/local/lib/python3.10/dist-packages (from folium>=0.13->streamlit_folium) (2.27.1)\n",
            "Requirement already satisfied: MarkupSafe>=2.0 in /usr/local/lib/python3.10/dist-packages (from jinja2->streamlit_folium) (2.1.2)\n",
            "Requirement already satisfied: rich>=10.11.0 in /usr/local/lib/python3.10/dist-packages (from streamlit>=1.13.0->streamlit_folium) (13.3.4)\n",
            "Requirement already satisfied: packaging>=14.1 in /usr/local/lib/python3.10/dist-packages (from streamlit>=1.13.0->streamlit_folium) (23.1)\n",
            "Collecting watchdog\n",
            "  Downloading watchdog-3.0.0-py3-none-manylinux2014_x86_64.whl (82 kB)\n",
            "\u001b[2K     \u001b[90m━━━━━━━━━━━━━━━━━━━━━━━━━━━━━━━━━━━━━━━━\u001b[0m \u001b[32m82.1/82.1 kB\u001b[0m \u001b[31m7.9 MB/s\u001b[0m eta \u001b[36m0:00:00\u001b[0m\n",
            "\u001b[?25hRequirement already satisfied: click>=7.0 in /usr/local/lib/python3.10/dist-packages (from streamlit>=1.13.0->streamlit_folium) (8.1.3)\n",
            "Requirement already satisfied: typing-extensions>=3.10.0.0 in /usr/local/lib/python3.10/dist-packages (from streamlit>=1.13.0->streamlit_folium) (4.5.0)\n",
            "Collecting pympler>=0.9\n",
            "  Downloading Pympler-1.0.1-py3-none-any.whl (164 kB)\n",
            "\u001b[2K     \u001b[90m━━━━━━━━━━━━━━━━━━━━━━━━━━━━━━━━━━━━━━\u001b[0m \u001b[32m164.8/164.8 kB\u001b[0m \u001b[31m14.0 MB/s\u001b[0m eta \u001b[36m0:00:00\u001b[0m\n",
            "\u001b[?25hRequirement already satisfied: pandas<3,>=0.25 in /usr/local/lib/python3.10/dist-packages (from streamlit>=1.13.0->streamlit_folium) (1.5.3)\n",
            "Requirement already satisfied: tornado>=6.0.3 in /usr/local/lib/python3.10/dist-packages (from streamlit>=1.13.0->streamlit_folium) (6.2)\n",
            "Collecting gitpython!=3.1.19\n",
            "  Downloading GitPython-3.1.31-py3-none-any.whl (184 kB)\n",
            "\u001b[2K     \u001b[90m━━━━━━━━━━━━━━━━━━━━━━━━━━━━━━━━━━━━━━\u001b[0m \u001b[32m184.3/184.3 kB\u001b[0m \u001b[31m17.7 MB/s\u001b[0m eta \u001b[36m0:00:00\u001b[0m\n",
            "\u001b[?25hCollecting importlib-metadata>=1.4\n",
            "  Downloading importlib_metadata-6.6.0-py3-none-any.whl (22 kB)\n",
            "Requirement already satisfied: pyarrow>=4.0 in /usr/local/lib/python3.10/dist-packages (from streamlit>=1.13.0->streamlit_folium) (9.0.0)\n",
            "Requirement already satisfied: tenacity<9,>=8.0.0 in /usr/local/lib/python3.10/dist-packages (from streamlit>=1.13.0->streamlit_folium) (8.2.2)\n",
            "Requirement already satisfied: protobuf<4,>=3.12 in /usr/local/lib/python3.10/dist-packages (from streamlit>=1.13.0->streamlit_folium) (3.20.3)\n",
            "Requirement already satisfied: toml in /usr/local/lib/python3.10/dist-packages (from streamlit>=1.13.0->streamlit_folium) (0.10.2)\n",
            "Collecting blinker>=1.0.0\n",
            "  Downloading blinker-1.6.2-py3-none-any.whl (13 kB)\n",
            "Collecting pydeck>=0.1.dev5\n",
            "  Downloading pydeck-0.8.1b0-py2.py3-none-any.whl (4.8 MB)\n",
            "\u001b[2K     \u001b[90m━━━━━━━━━━━━━━━━━━━━━━━━━━━━━━━━━━━━━━━━\u001b[0m \u001b[32m4.8/4.8 MB\u001b[0m \u001b[31m70.3 MB/s\u001b[0m eta \u001b[36m0:00:00\u001b[0m\n",
            "\u001b[?25hRequirement already satisfied: pillow>=6.2.0 in /usr/local/lib/python3.10/dist-packages (from streamlit>=1.13.0->streamlit_folium) (8.4.0)\n",
            "Collecting validators>=0.2\n",
            "  Downloading validators-0.20.0.tar.gz (30 kB)\n",
            "  Preparing metadata (setup.py) ... \u001b[?25l\u001b[?25hdone\n",
            "Requirement already satisfied: altair<5,>=3.2.0 in /usr/local/lib/python3.10/dist-packages (from streamlit>=1.13.0->streamlit_folium) (4.2.2)\n",
            "Requirement already satisfied: tzlocal>=1.1 in /usr/local/lib/python3.10/dist-packages (from streamlit>=1.13.0->streamlit_folium) (4.3)\n",
            "Requirement already satisfied: cachetools>=4.0 in /usr/local/lib/python3.10/dist-packages (from streamlit>=1.13.0->streamlit_folium) (5.3.0)\n",
            "Requirement already satisfied: python-dateutil in /usr/local/lib/python3.10/dist-packages (from streamlit>=1.13.0->streamlit_folium) (2.8.2)\n",
            "Requirement already satisfied: entrypoints in /usr/local/lib/python3.10/dist-packages (from altair<5,>=3.2.0->streamlit>=1.13.0->streamlit_folium) (0.4)\n",
            "Requirement already satisfied: toolz in /usr/local/lib/python3.10/dist-packages (from altair<5,>=3.2.0->streamlit>=1.13.0->streamlit_folium) (0.12.0)\n",
            "Requirement already satisfied: jsonschema>=3.0 in /usr/local/lib/python3.10/dist-packages (from altair<5,>=3.2.0->streamlit>=1.13.0->streamlit_folium) (4.3.3)\n",
            "Collecting gitdb<5,>=4.0.1\n",
            "  Downloading gitdb-4.0.10-py3-none-any.whl (62 kB)\n",
            "\u001b[2K     \u001b[90m━━━━━━━━━━━━━━━━━━━━━━━━━━━━━━━━━━━━━━━━\u001b[0m \u001b[32m62.7/62.7 kB\u001b[0m \u001b[31m6.0 MB/s\u001b[0m eta \u001b[36m0:00:00\u001b[0m\n",
            "\u001b[?25hRequirement already satisfied: zipp>=0.5 in /usr/local/lib/python3.10/dist-packages (from importlib-metadata>=1.4->streamlit>=1.13.0->streamlit_folium) (3.15.0)\n",
            "Requirement already satisfied: pytz>=2020.1 in /usr/local/lib/python3.10/dist-packages (from pandas<3,>=0.25->streamlit>=1.13.0->streamlit_folium) (2022.7.1)\n",
            "Requirement already satisfied: six>=1.5 in /usr/local/lib/python3.10/dist-packages (from python-dateutil->streamlit>=1.13.0->streamlit_folium) (1.16.0)\n",
            "Requirement already satisfied: charset-normalizer~=2.0.0 in /usr/local/lib/python3.10/dist-packages (from requests->folium>=0.13->streamlit_folium) (2.0.12)\n",
            "Requirement already satisfied: idna<4,>=2.5 in /usr/local/lib/python3.10/dist-packages (from requests->folium>=0.13->streamlit_folium) (3.4)\n",
            "Requirement already satisfied: urllib3<1.27,>=1.21.1 in /usr/local/lib/python3.10/dist-packages (from requests->folium>=0.13->streamlit_folium) (1.26.15)\n",
            "Requirement already satisfied: certifi>=2017.4.17 in /usr/local/lib/python3.10/dist-packages (from requests->folium>=0.13->streamlit_folium) (2022.12.7)\n",
            "Requirement already satisfied: pygments<3.0.0,>=2.13.0 in /usr/local/lib/python3.10/dist-packages (from rich>=10.11.0->streamlit>=1.13.0->streamlit_folium) (2.14.0)\n",
            "Requirement already satisfied: markdown-it-py<3.0.0,>=2.2.0 in /usr/local/lib/python3.10/dist-packages (from rich>=10.11.0->streamlit>=1.13.0->streamlit_folium) (2.2.0)\n",
            "Requirement already satisfied: pytz-deprecation-shim in /usr/local/lib/python3.10/dist-packages (from tzlocal>=1.1->streamlit>=1.13.0->streamlit_folium) (0.1.0.post0)\n",
            "Requirement already satisfied: decorator>=3.4.0 in /usr/local/lib/python3.10/dist-packages (from validators>=0.2->streamlit>=1.13.0->streamlit_folium) (4.4.2)\n",
            "Collecting smmap<6,>=3.0.1\n",
            "  Downloading smmap-5.0.0-py3-none-any.whl (24 kB)\n",
            "Requirement already satisfied: pyrsistent!=0.17.0,!=0.17.1,!=0.17.2,>=0.14.0 in /usr/local/lib/python3.10/dist-packages (from jsonschema>=3.0->altair<5,>=3.2.0->streamlit>=1.13.0->streamlit_folium) (0.19.3)\n",
            "Requirement already satisfied: attrs>=17.4.0 in /usr/local/lib/python3.10/dist-packages (from jsonschema>=3.0->altair<5,>=3.2.0->streamlit>=1.13.0->streamlit_folium) (23.1.0)\n",
            "Requirement already satisfied: mdurl~=0.1 in /usr/local/lib/python3.10/dist-packages (from markdown-it-py<3.0.0,>=2.2.0->rich>=10.11.0->streamlit>=1.13.0->streamlit_folium) (0.1.2)\n",
            "Requirement already satisfied: tzdata in /usr/local/lib/python3.10/dist-packages (from pytz-deprecation-shim->tzlocal>=1.1->streamlit>=1.13.0->streamlit_folium) (2023.3)\n",
            "Building wheels for collected packages: validators\n",
            "  Building wheel for validators (setup.py) ... \u001b[?25l\u001b[?25hdone\n",
            "  Created wheel for validators: filename=validators-0.20.0-py3-none-any.whl size=19579 sha256=db7bf8bb218221d998982eeb6854f9992b41448eaa591484c28d05e9b94390d5\n",
            "  Stored in directory: /root/.cache/pip/wheels/f2/ed/dd/d3a556ad245ef9dc570c6bcd2f22886d17b0b408dd3bbb9ac3\n",
            "Successfully built validators\n",
            "Installing collected packages: watchdog, validators, smmap, pympler, importlib-metadata, blinker, pydeck, gitdb, gitpython, streamlit, streamlit_folium\n",
            "Successfully installed blinker-1.6.2 gitdb-4.0.10 gitpython-3.1.31 importlib-metadata-6.6.0 pydeck-0.8.1b0 pympler-1.0.1 smmap-5.0.0 streamlit-1.22.0 streamlit_folium-0.11.1 validators-0.20.0 watchdog-3.0.0\n"
          ]
        }
      ]
    },
    {
      "cell_type": "code",
      "source": [
        "%%writefile app.py\n",
        "\n",
        "import streamlit as st\n",
        "import pickle\n",
        "import math\n",
        "\n",
        "import pandas as pd\n",
        "\n",
        "\n",
        "import folium\n",
        "\n",
        "import streamlit as st\n",
        "from folium.plugins import Draw\n",
        "\n",
        "from streamlit_folium import st_folium\n",
        "\n",
        "final_df = pd.read_excel('/content/model.xlsx')\n",
        "categorical_features = final_df.select_dtypes(include=['object'])\n",
        "categorical_features_one_hot = pd.get_dummies(categorical_features)\n",
        "final_df['reviews_per_month'] = final_df['reviews_per_month'].fillna(0)\n",
        "numerical_features =  final_df.select_dtypes(exclude=['object'])\n",
        "y = numerical_features.price\n",
        "numerical_features = numerical_features.drop(['price'], axis=1)\n",
        "X_df = pd.concat([numerical_features, categorical_features_one_hot], axis=1)\n",
        "c = list(X_df.head(1).columns)\n",
        "ng = c[12:18]\n",
        "ne = c[18:-7]\n",
        "rt = c[-7:-3]\n",
        "loc = c[-3:]\n",
        "loc = [s.replace(\" \", \"_\") for s in loc]\n",
        "ng = [s.replace(\" \", \"_\") for s in ng]\n",
        "ne = [s.replace(\" \", \"_\") for s in ne]\n",
        "\n",
        "\n",
        "\n",
        "\n",
        "# load the saved model\n",
        "with open('regressor.pickle', 'rb') as f:\n",
        "    regressor = pickle.load(f)\n",
        "\n",
        "# function to make predictions\n",
        "def predict_price(latitude, longitude, minimum_nights, number_of_reviews,last_review, reviews_per_month, calculated_host_listings_count,availability_365, number_of_reviews_ltm, all_year_avail, low_avail,no_reviews,var_1, var_2, var_3, var_4, var_5, var_6, var_7, var_8, var_9, var_10, var_11, var_12, var_13, var_14, var_15, var_16, var_17, var_18, var_19, var_20, var_21, var_22, var_23, var_24, var_25, var_26, var_27, var_28, var_29, var_30, var_31, var_32, var_33, var_34, var_35, var_36, var_37, var_38, var_39, var_40, var_41, var_42, var_43, var_44, var_45, var_46, var_47, var_48, var_49, var_50, var_51, var_52, var_53, var_54, var_55, var_56, var_57, var_58, var_59, var_60, var_61, var_62, var_63, var_64, var_65, var_66, var_67, var_68, var_69, var_70, var_71, var_72, var_73, var_74, var_75, var_76, var_77, var_78, var_79, var_80, var_81, var_82, var_83, var_84, var_85, var_86, var_87, var_88, var_89, var_90, var_91, var_92, var_93, var_94, var_95, var_96, var_97, var_98, var_99, var_100, var_101, var_102, var_103, var_104, var_105, var_106, var_107, var_108, var_109, var_110, var_111, var_112, var_113, var_114, var_115, var_116, var_117, var_118, var_119, var_120, var_121, var_122, var_123, var_124, var_125, var_126, var_127, var_128, var_129, var_130, var_131, var_132, var_133, var_134, var_135, var_136, var_137, var_138, var_139, var_140, var_141, var_142, var_143, var_144, var_145, var_146, var_147, var_148, var_149, var_150, var_151, var_152, var_153, var_154, var_155, var_156, var_157, var_158, var_159, var_160, var_161, var_162, var_163, var_164, var_165, var_166, var_167, var_168, var_169, var_170, var_171, var_172, var_173,var_174,var_175,var_176,var_177,var_178,var_179,var_180,var_181,var_182,var_183,var_184,var_185,var_186,var_187,var_188,var_189,var_190,var_191,var_192,var_193,var_194,var_195,var_196,var_197,var_198,var_199,var_200,var_201,var_202,var_203,var_204,var_205,var_206,var_207,var_208,var_209,var_210,var_211,var_212,var_213,var_214,var_215,var_216,var_217,var_218,var_219,var_220,var_221,var_222,var_223,var_224,var_225,var_226,var_227,var_228,var_229,var_230,var_231,var_232,var_233,var_234,var_235,var_236,var_237,var_238,var_239,var_240,var_241,var_242,var_243,var_244,var_245,var_246,var_247,var_248,var_249,var_250,var_251,var_252,var_253,var_254,var_255,var_256,var_257,var_258,var_259,var_260,var_261,var_262,var_263,var_264,var_265,var_266,var_267,var_268,var_269,var_270,var_271,var_272,var_273,var_274,var_275,var_276,var_277,var_278,var_279,var_280):\n",
        "  # create a list of input features\n",
        "  new_data = [[latitude, longitude, minimum_nights, number_of_reviews,last_review, reviews_per_month, calculated_host_listings_count,availability_365, number_of_reviews_ltm, all_year_avail, low_avail,no_reviews,var_1, var_2, var_3, var_4, var_5, var_6, var_7, var_8, var_9, var_10, var_11, var_12, var_13, var_14, var_15, var_16, var_17, var_18, var_19, var_20, var_21, var_22, var_23, var_24, var_25, var_26, var_27, var_28, var_29, var_30, var_31, var_32, var_33, var_34, var_35, var_36, var_37, var_38, var_39, var_40, var_41, var_42, var_43, var_44, var_45, var_46, var_47, var_48, var_49, var_50, var_51, var_52, var_53, var_54, var_55, var_56, var_57, var_58, var_59, var_60, var_61, var_62, var_63, var_64, var_65, var_66, var_67, var_68, var_69, var_70, var_71, var_72, var_73, var_74, var_75, var_76, var_77, var_78, var_79, var_80, var_81, var_82, var_83, var_84, var_85, var_86, var_87, var_88, var_89, var_90, var_91, var_92, var_93, var_94, var_95, var_96, var_97, var_98, var_99, var_100, var_101, var_102, var_103, var_104, var_105, var_106, var_107, var_108, var_109, var_110, var_111, var_112, var_113, var_114, var_115, var_116, var_117, var_118, var_119, var_120, var_121, var_122, var_123, var_124, var_125, var_126, var_127, var_128, var_129, var_130, var_131, var_132, var_133, var_134, var_135, var_136, var_137, var_138, var_139, var_140, var_141, var_142, var_143, var_144, var_145, var_146, var_147, var_148, var_149, var_150, var_151, var_152, var_153, var_154, var_155, var_156, var_157, var_158, var_159, var_160, var_161, var_162, var_163, var_164, var_165, var_166, var_167, var_168, var_169, var_170, var_171, var_172, var_173,var_174,var_175,var_176,var_177,var_178,var_179,var_180,var_181,var_182,var_183,var_184,var_185,var_186,var_187,var_188,var_189,var_190,var_191,var_192,var_193,var_194,var_195,var_196,var_197,var_198,var_199,var_200,var_201,var_202,var_203,var_204,var_205,var_206,var_207,var_208,var_209,var_210,var_211,var_212,var_213,var_214,var_215,var_216,var_217,var_218,var_219,var_220,var_221,var_222,var_223,var_224,var_225,var_226,var_227,var_228,var_229,var_230,var_231,var_232,var_233,var_234,var_235,var_236,var_237,var_238,var_239,var_240,var_241,var_242,var_243,var_244,var_245,var_246,var_247,var_248,var_249,var_250,var_251,var_252,var_253,var_254,var_255,var_256,var_257,var_258,var_259,var_260,var_261,var_262,var_263,var_264,var_265,var_266,var_267,var_268,var_269,var_270,var_271,var_272,var_273,var_274,var_275,var_276,var_277,var_278,var_279,var_280]]\n",
        "  # make predictions on new data\n",
        "  prediction = regressor.predict(new_data)\n",
        "  return math.exp(prediction)\n",
        "\n",
        "# set app title and description\n",
        "st.set_page_config(page_title=\"Airbnb Price Predictor\", page_icon=\":money_with_wings:\")\n",
        "st.title(\"Airbnb Price Predictor\")\n",
        "st.write(\"Enter the following information to get a price prediction for your Airbnb rental:\")\n",
        "\n",
        "ng = [s.replace(\"neighbourhood_group_\", \"\") for s in ng]\n",
        "ne = [s.replace(\"neighbourhood_\", \"\") for s in ne]\n",
        "rt = [s.replace(\"room_type_\", \"\") for s in rt]\n",
        "loc = [s.replace(\"location_\", \"\") for s in loc]\n",
        "\n",
        "ngd =  {var: 0 for var in ng}\n",
        "ned =  {var: 0 for var in ne}\n",
        "rtd =  {var: 0 for var in rt}\n",
        "locd =  {var: 0 for var in loc}\n",
        "location ,neighbor , negroup = st.columns(3)\n",
        "with location:\n",
        "  location = st.radio(\"Select a location:\", [\"New york\", \"Washington D.C\", \"New Jersey\"])\n",
        "with neighbor:\n",
        "  neighbor = st.selectbox('Select Neighbourhood area:', ne)\n",
        "with negroup:\n",
        "  negroup = st.selectbox('Select an Neighbourbood group:', ng)\n",
        "\n",
        "ngd[negroup] = 1\n",
        "ned[neighbor] = 1\n",
        "location = location.replace(\" \", \"_\")\n",
        "locd[location] = 1\n",
        "\n",
        "\n",
        "\n",
        "\n",
        "selected_item = st.selectbox('Select an room type:', rt)\n",
        "rtd[selected_item] = 1\n",
        "\n",
        "\n",
        "\n",
        "if location == \"New york\":\n",
        "    lat = 40.712776\n",
        "    lon = -74.005974\n",
        "elif location == \"Washington D.C\":\n",
        "    lat = 38.9072\n",
        "    lon = -77.0369\n",
        "else:\n",
        "    lat = 40.0583\n",
        "    lon = -74.4057\n",
        "\n",
        "m = folium.Map(location=[lat, lon], zoom_start=10)\n",
        "Draw(export=False).add_to(m)\n",
        "\n",
        "output = st_folium(m, width=1000, height=500)\n",
        "st.write(output['all_drawings'])\n",
        "\n",
        "if(output['all_drawings'] != None):\n",
        "  st.write(output['all_drawings'][0]['geometry']['coordinates'][0])\n",
        "  st.write(output['all_drawings'][0]['geometry']['coordinates'][1])\n",
        "  latitude = output['all_drawings'][0]['geometry']['coordinates'][1]\n",
        "  longitude = output['all_drawings'][0]['geometry']['coordinates'][1]\n",
        "\n",
        "# input fields for other features\n",
        "minimum_nights, number_of_reviews, last_review, reviews_per_month = st.columns(4)\n",
        "with minimum_nights:\n",
        "    minimum_nights = st.number_input(\"Minimum Nights\", value=1, min_value=1, max_value=30, step=1)\n",
        "with number_of_reviews:\n",
        "    number_of_reviews = st.number_input(\"Number of Reviews\", value=0, min_value=0, step=1)\n",
        "with last_review:\n",
        "    last_review = st.number_input(\"Last Review (in days)\", value=0, min_value=0, step=1)\n",
        "with reviews_per_month:\n",
        "    reviews_per_month = st.number_input(\"Reviews per Month\", value=0, min_value=0, step=1)\n",
        "\n",
        "\n",
        "calculated_host_listings_count, availability_365, number_of_reviews_ltm = st.columns(3)\n",
        "with calculated_host_listings_count:\n",
        "    calculated_host_listings_count = st.number_input(\"Calculated Host Listings Count\", value=1, min_value=1, step=1)\n",
        "with availability_365:\n",
        "    availability_365 = st.number_input(\"Availability (in days)\", value=365, min_value=0, max_value=365, step=1)\n",
        "with number_of_reviews_ltm:\n",
        "    number_of_reviews_ltm = st.number_input(\"Number of Reviews Last 12 Months\", value=0, min_value=0, step=1)\n",
        "\n",
        "\n",
        "\n",
        "ngr = [s.replace(\"neighbourhood_group_\", \"\") for s in c[12:18]]\n",
        "neb = [s.replace(\"neighbourhood_\", \"\") for s in c[18:-7]]\n",
        "rty = [s.replace(\"room_type_\", \"\") for s in c[-7:-3]]\n",
        "loca = [s.replace(\"location_\", \"\") for s in c[-3:]]\n",
        "\n",
        "ngr = [s.replace(\" \", \"_\") for s in ngr]\n",
        "neb = [s.replace(\" \", \"_\") for s in neb]\n",
        "loca = [s.replace(\" \", \"_\") for s in loca]\n",
        "st.write(loca)\n",
        "st.write(locd)\n",
        "\n",
        "all_year_avail = False\n",
        "low_avail = False\n",
        "no_reviews = False\n",
        "# button to make prediction\n",
        "\n",
        "if st.button(\"Predict Price\"):\n",
        "    price = predict_price(latitude, longitude, minimum_nights, number_of_reviews,last_review, reviews_per_month, calculated_host_listings_count,availability_365, number_of_reviews_ltm, all_year_avail, low_avail,no_reviews,ngd[ngr[0]],ngd[ngr[1]],ngd[ngr[2]],ngd[ngr[3]],ngd[ngr[4]],ngd[ngr[5]],ned[neb[0]],ned[neb[1]],ned[neb[2]],ned[neb[3]],ned[neb[4]],ned[neb[5]],ned[neb[6]],ned[neb[7]],ned[neb[8]],ned[neb[9]],ned[neb[10]],ned[neb[11]],ned[neb[12]],ned[neb[13]],ned[neb[14]],ned[neb[15]],ned[neb[16]],ned[neb[17]],ned[neb[18]],ned[neb[19]],ned[neb[20]],ned[neb[21]],ned[neb[22]],ned[neb[23]],ned[neb[24]],ned[neb[25]],ned[neb[26]],ned[neb[27]],ned[neb[28]],ned[neb[29]],ned[neb[30]],ned[neb[31]],ned[neb[32]],ned[neb[33]],ned[neb[34]],ned[neb[35]],ned[neb[36]],ned[neb[37]],ned[neb[38]],ned[neb[39]],ned[neb[40]],ned[neb[41]],ned[neb[42]],ned[neb[43]],ned[neb[44]],ned[neb[45]],ned[neb[46]],ned[neb[47]],ned[neb[48]],ned[neb[49]],ned[neb[50]],ned[neb[51]],ned[neb[52]],ned[neb[53]],ned[neb[54]],ned[neb[55]],ned[neb[56]],ned[neb[57]],ned[neb[58]],ned[neb[59]],ned[neb[60]],ned[neb[61]],ned[neb[62]],ned[neb[63]],ned[neb[64]],ned[neb[65]],ned[neb[66]],ned[neb[67]],ned[neb[68]],ned[neb[69]],ned[neb[70]],ned[neb[71]],ned[neb[72]],ned[neb[73]],ned[neb[74]],ned[neb[75]],ned[neb[76]],ned[neb[77]],ned[neb[78]],ned[neb[79]],ned[neb[80]],ned[neb[81]],ned[neb[82]],ned[neb[83]],ned[neb[84]],ned[neb[85]],ned[neb[86]],ned[neb[87]],ned[neb[88]],ned[neb[89]],ned[neb[90]],ned[neb[91]],ned[neb[92]],ned[neb[93]],ned[neb[94]],ned[neb[95]],ned[neb[96]],ned[neb[97]],ned[neb[98]],ned[neb[99]],ned[neb[100]],ned[neb[101]],ned[neb[102]],ned[neb[103]],ned[neb[104]],ned[neb[105]],ned[neb[106]],ned[neb[107]],ned[neb[108]],ned[neb[109]],ned[neb[110]],ned[neb[111]],ned[neb[112]],ned[neb[113]],ned[neb[114]],ned[neb[115]],ned[neb[116]],ned[neb[117]],ned[neb[118]],ned[neb[119]],ned[neb[120]],ned[neb[121]],ned[neb[122]],ned[neb[123]],ned[neb[124]],ned[neb[125]],ned[neb[126]],ned[neb[127]],ned[neb[128]],ned[neb[129]],ned[neb[130]],ned[neb[131]],ned[neb[132]],ned[neb[133]],ned[neb[134]],ned[neb[135]],ned[neb[136]],ned[neb[137]],ned[neb[138]],ned[neb[139]],ned[neb[140]],ned[neb[141]],ned[neb[142]],ned[neb[143]],ned[neb[144]],ned[neb[145]],ned[neb[146]],ned[neb[147]],ned[neb[148]],ned[neb[149]],ned[neb[150]],ned[neb[151]],ned[neb[152]],ned[neb[153]],ned[neb[154]],ned[neb[155]],ned[neb[156]],ned[neb[157]],ned[neb[158]],ned[neb[159]],ned[neb[160]],ned[neb[161]],ned[neb[162]],ned[neb[163]],ned[neb[164]],ned[neb[165]],ned[neb[166]],ned[neb[167]],ned[neb[168]],ned[neb[169]],ned[neb[170]],ned[neb[171]],ned[neb[172]],ned[neb[173]],ned[neb[174]],ned[neb[175]],ned[neb[176]],ned[neb[177]],ned[neb[178]],ned[neb[179]],ned[neb[180]],ned[neb[181]],ned[neb[182]],ned[neb[183]],ned[neb[184]],ned[neb[185]],ned[neb[186]],ned[neb[187]],ned[neb[188]],ned[neb[189]],ned[neb[190]],ned[neb[191]],ned[neb[192]],ned[neb[193]],ned[neb[194]],ned[neb[195]],ned[neb[196]],ned[neb[197]],ned[neb[198]],ned[neb[199]],ned[neb[200]],ned[neb[201]],ned[neb[202]],ned[neb[203]],ned[neb[204]],ned[neb[205]],ned[neb[206]],ned[neb[207]],ned[neb[208]],ned[neb[209]],ned[neb[210]],ned[neb[211]],ned[neb[212]],ned[neb[213]],ned[neb[214]],ned[neb[215]],ned[neb[216]],ned[neb[217]],ned[neb[218]],ned[neb[219]],ned[neb[220]],ned[neb[221]],ned[neb[222]],ned[neb[223]],ned[neb[224]],ned[neb[225]],ned[neb[226]],ned[neb[227]],ned[neb[228]],ned[neb[229]],ned[neb[230]],ned[neb[231]],ned[neb[232]],ned[neb[233]],ned[neb[234]],ned[neb[235]],ned[neb[236]],ned[neb[237]],ned[neb[238]],ned[neb[239]],ned[neb[240]],ned[neb[241]],ned[neb[242]],ned[neb[243]],ned[neb[244]],ned[neb[245]],ned[neb[246]],ned[neb[247]],ned[neb[248]],ned[neb[249]],ned[neb[250]],ned[neb[251]],ned[neb[252]],ned[neb[253]],ned[neb[254]],ned[neb[255]],ned[neb[256]],ned[neb[257]],ned[neb[258]],ned[neb[259]],ned[neb[260]],ned[neb[261]],ned[neb[262]],ned[neb[263]],ned[neb[264]],ned[neb[265]],ned[neb[266]], rtd[rty[0]],rtd[rty[1]],rtd[rty[2]],rtd[rty[3]],locd[loca[0]],locd[loca[1]],locd[loca[2]])\n",
        "\n",
        "    st.write(\"The predicted price for your rental is **$%.2f** per night.\" % price)\n"
      ],
      "metadata": {
        "colab": {
          "base_uri": "https://localhost:8080/"
        },
        "id": "fxvuNEUtUFZ-",
        "outputId": "b6acdd77-d310-4067-c9ed-1873a035b43e"
      },
      "execution_count": 154,
      "outputs": [
        {
          "output_type": "stream",
          "name": "stdout",
          "text": [
            "Overwriting app.py\n"
          ]
        }
      ]
    },
    {
      "cell_type": "code",
      "source": [
        "\n",
        "!streamlit run app.py &>/content/logs.txt &"
      ],
      "metadata": {
        "id": "QSJa5dqjUhW1"
      },
      "execution_count": 155,
      "outputs": []
    },
    {
      "cell_type": "code",
      "source": [
        "!npx localtunnel --port 8501"
      ],
      "metadata": {
        "colab": {
          "base_uri": "https://localhost:8080/"
        },
        "id": "gNigMyolUzPG",
        "outputId": "fd5a0a03-715b-4c41-b708-af4e07720cb8"
      },
      "execution_count": 156,
      "outputs": [
        {
          "output_type": "stream",
          "name": "stdout",
          "text": [
            "\u001b[K\u001b[?25hnpx: installed 22 in 2.264s\n",
            "your url is: https://tidy-hands-teach.loca.lt\n",
            "^C\n"
          ]
        }
      ]
    },
    {
      "cell_type": "code",
      "source": [
        "!pip install streamlit==1.13.0"
      ],
      "metadata": {
        "colab": {
          "base_uri": "https://localhost:8080/"
        },
        "id": "a46MRIQvU128",
        "outputId": "13d6b99c-4d22-4fa5-b15f-2ee9e7cc3854"
      },
      "execution_count": 68,
      "outputs": [
        {
          "output_type": "stream",
          "name": "stdout",
          "text": [
            "Looking in indexes: https://pypi.org/simple, https://us-python.pkg.dev/colab-wheels/public/simple/\n",
            "Collecting streamlit==1.13.0\n",
            "  Downloading streamlit-1.13.0-py2.py3-none-any.whl (9.2 MB)\n",
            "\u001b[2K     \u001b[90m━━━━━━━━━━━━━━━━━━━━━━━━━━━━━━━━━━━━━━━━\u001b[0m \u001b[32m9.2/9.2 MB\u001b[0m \u001b[31m29.3 MB/s\u001b[0m eta \u001b[36m0:00:00\u001b[0m\n",
            "\u001b[?25hRequirement already satisfied: blinker>=1.0.0 in /usr/local/lib/python3.10/dist-packages (from streamlit==1.13.0) (1.6.2)\n",
            "Requirement already satisfied: packaging>=14.1 in /usr/local/lib/python3.10/dist-packages (from streamlit==1.13.0) (23.1)\n",
            "Requirement already satisfied: requests>=2.4 in /usr/local/lib/python3.10/dist-packages (from streamlit==1.13.0) (2.27.1)\n",
            "Requirement already satisfied: typing-extensions>=3.10.0.0 in /usr/local/lib/python3.10/dist-packages (from streamlit==1.13.0) (4.5.0)\n",
            "Requirement already satisfied: protobuf!=3.20.2,<4,>=3.12 in /usr/local/lib/python3.10/dist-packages (from streamlit==1.13.0) (3.20.3)\n",
            "Requirement already satisfied: importlib-metadata>=1.4 in /usr/local/lib/python3.10/dist-packages (from streamlit==1.13.0) (6.6.0)\n",
            "Collecting semver\n",
            "  Downloading semver-3.0.0-py3-none-any.whl (17 kB)\n",
            "Requirement already satisfied: tzlocal>=1.1 in /usr/local/lib/python3.10/dist-packages (from streamlit==1.13.0) (4.3)\n",
            "Requirement already satisfied: pyarrow>=4.0 in /usr/local/lib/python3.10/dist-packages (from streamlit==1.13.0) (9.0.0)\n",
            "Requirement already satisfied: rich>=10.11.0 in /usr/local/lib/python3.10/dist-packages (from streamlit==1.13.0) (13.3.4)\n",
            "Requirement already satisfied: pympler>=0.9 in /usr/local/lib/python3.10/dist-packages (from streamlit==1.13.0) (1.0.1)\n",
            "Requirement already satisfied: gitpython!=3.1.19 in /usr/local/lib/python3.10/dist-packages (from streamlit==1.13.0) (3.1.31)\n",
            "Requirement already satisfied: pydeck>=0.1.dev5 in /usr/local/lib/python3.10/dist-packages (from streamlit==1.13.0) (0.8.1b0)\n",
            "Requirement already satisfied: numpy in /usr/local/lib/python3.10/dist-packages (from streamlit==1.13.0) (1.22.4)\n",
            "Requirement already satisfied: toml in /usr/local/lib/python3.10/dist-packages (from streamlit==1.13.0) (0.10.2)\n",
            "Requirement already satisfied: watchdog in /usr/local/lib/python3.10/dist-packages (from streamlit==1.13.0) (3.0.0)\n",
            "Requirement already satisfied: pandas>=0.21.0 in /usr/local/lib/python3.10/dist-packages (from streamlit==1.13.0) (1.5.3)\n",
            "Requirement already satisfied: python-dateutil in /usr/local/lib/python3.10/dist-packages (from streamlit==1.13.0) (2.8.2)\n",
            "Requirement already satisfied: click>=7.0 in /usr/local/lib/python3.10/dist-packages (from streamlit==1.13.0) (8.1.3)\n",
            "Requirement already satisfied: cachetools>=4.0 in /usr/local/lib/python3.10/dist-packages (from streamlit==1.13.0) (5.3.0)\n",
            "Requirement already satisfied: altair>=3.2.0 in /usr/local/lib/python3.10/dist-packages (from streamlit==1.13.0) (4.2.2)\n",
            "Requirement already satisfied: tornado>=5.0 in /usr/local/lib/python3.10/dist-packages (from streamlit==1.13.0) (6.2)\n",
            "Requirement already satisfied: validators>=0.2 in /usr/local/lib/python3.10/dist-packages (from streamlit==1.13.0) (0.20.0)\n",
            "Requirement already satisfied: pillow>=6.2.0 in /usr/local/lib/python3.10/dist-packages (from streamlit==1.13.0) (8.4.0)\n",
            "Requirement already satisfied: entrypoints in /usr/local/lib/python3.10/dist-packages (from altair>=3.2.0->streamlit==1.13.0) (0.4)\n",
            "Requirement already satisfied: toolz in /usr/local/lib/python3.10/dist-packages (from altair>=3.2.0->streamlit==1.13.0) (0.12.0)\n",
            "Requirement already satisfied: jsonschema>=3.0 in /usr/local/lib/python3.10/dist-packages (from altair>=3.2.0->streamlit==1.13.0) (4.3.3)\n",
            "Requirement already satisfied: jinja2 in /usr/local/lib/python3.10/dist-packages (from altair>=3.2.0->streamlit==1.13.0) (3.1.2)\n",
            "Requirement already satisfied: gitdb<5,>=4.0.1 in /usr/local/lib/python3.10/dist-packages (from gitpython!=3.1.19->streamlit==1.13.0) (4.0.10)\n",
            "Requirement already satisfied: zipp>=0.5 in /usr/local/lib/python3.10/dist-packages (from importlib-metadata>=1.4->streamlit==1.13.0) (3.15.0)\n",
            "Requirement already satisfied: pytz>=2020.1 in /usr/local/lib/python3.10/dist-packages (from pandas>=0.21.0->streamlit==1.13.0) (2022.7.1)\n",
            "Requirement already satisfied: six>=1.5 in /usr/local/lib/python3.10/dist-packages (from python-dateutil->streamlit==1.13.0) (1.16.0)\n",
            "Requirement already satisfied: urllib3<1.27,>=1.21.1 in /usr/local/lib/python3.10/dist-packages (from requests>=2.4->streamlit==1.13.0) (1.26.15)\n",
            "Requirement already satisfied: charset-normalizer~=2.0.0 in /usr/local/lib/python3.10/dist-packages (from requests>=2.4->streamlit==1.13.0) (2.0.12)\n",
            "Requirement already satisfied: certifi>=2017.4.17 in /usr/local/lib/python3.10/dist-packages (from requests>=2.4->streamlit==1.13.0) (2022.12.7)\n",
            "Requirement already satisfied: idna<4,>=2.5 in /usr/local/lib/python3.10/dist-packages (from requests>=2.4->streamlit==1.13.0) (3.4)\n",
            "Requirement already satisfied: markdown-it-py<3.0.0,>=2.2.0 in /usr/local/lib/python3.10/dist-packages (from rich>=10.11.0->streamlit==1.13.0) (2.2.0)\n",
            "Requirement already satisfied: pygments<3.0.0,>=2.13.0 in /usr/local/lib/python3.10/dist-packages (from rich>=10.11.0->streamlit==1.13.0) (2.14.0)\n",
            "Requirement already satisfied: pytz-deprecation-shim in /usr/local/lib/python3.10/dist-packages (from tzlocal>=1.1->streamlit==1.13.0) (0.1.0.post0)\n",
            "Requirement already satisfied: decorator>=3.4.0 in /usr/local/lib/python3.10/dist-packages (from validators>=0.2->streamlit==1.13.0) (4.4.2)\n",
            "Requirement already satisfied: smmap<6,>=3.0.1 in /usr/local/lib/python3.10/dist-packages (from gitdb<5,>=4.0.1->gitpython!=3.1.19->streamlit==1.13.0) (5.0.0)\n",
            "Requirement already satisfied: MarkupSafe>=2.0 in /usr/local/lib/python3.10/dist-packages (from jinja2->altair>=3.2.0->streamlit==1.13.0) (2.1.2)\n",
            "Requirement already satisfied: attrs>=17.4.0 in /usr/local/lib/python3.10/dist-packages (from jsonschema>=3.0->altair>=3.2.0->streamlit==1.13.0) (23.1.0)\n",
            "Requirement already satisfied: pyrsistent!=0.17.0,!=0.17.1,!=0.17.2,>=0.14.0 in /usr/local/lib/python3.10/dist-packages (from jsonschema>=3.0->altair>=3.2.0->streamlit==1.13.0) (0.19.3)\n",
            "Requirement already satisfied: mdurl~=0.1 in /usr/local/lib/python3.10/dist-packages (from markdown-it-py<3.0.0,>=2.2.0->rich>=10.11.0->streamlit==1.13.0) (0.1.2)\n",
            "Requirement already satisfied: tzdata in /usr/local/lib/python3.10/dist-packages (from pytz-deprecation-shim->tzlocal>=1.1->streamlit==1.13.0) (2023.3)\n",
            "Installing collected packages: semver, streamlit\n",
            "  Attempting uninstall: streamlit\n",
            "    Found existing installation: streamlit 1.22.0\n",
            "    Uninstalling streamlit-1.22.0:\n",
            "      Successfully uninstalled streamlit-1.22.0\n",
            "Successfully installed semver-3.0.0 streamlit-1.13.0\n"
          ]
        }
      ]
    },
    {
      "cell_type": "code",
      "source": [],
      "metadata": {
        "id": "xIIJyQw_Inrn"
      },
      "execution_count": null,
      "outputs": []
    }
  ]
}